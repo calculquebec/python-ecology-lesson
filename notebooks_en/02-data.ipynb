{
 "cells": [
  {
   "cell_type": "markdown",
   "metadata": {},
   "source": [
    "# Data Analysis and Visualization in Python\n",
    "## Starting With Data\n",
    "Questions\n",
    "* How can I import data in Python?\n",
    "* What is Pandas?\n",
    "* Why should I use Pandas to work with data?\n",
    "\n",
    "Objectives\n",
    "* Navigate the workshop directory and download a dataset.\n",
    "* Explain what a library is and what libraries are used for.\n",
    "* Describe what the Python Data Analysis Library (Pandas) is.\n",
    "* Load the Python Data Analysis Library (Pandas).\n",
    "* Use `read_csv` to read tabular data into Python.\n",
    "* Describe what a DataFrame is in Python.\n",
    "* Access and summarize data stored in a DataFrame.\n",
    "* Define indexing as it relates to data structures.\n",
    "* Perform basic mathematical operations and summary statistics on data in a Pandas DataFrame.\n",
    "* Create simple plots."
   ]
  },
  {
   "cell_type": "markdown",
   "metadata": {},
   "source": [
    "## Working With Pandas DataFrames in Python\n",
    "### Our Data\n",
    "For this lesson, we will be using the Portal Teaching data, which is a subset of the data from Ernst *et al* Long-term monitoring and experimental manipulation of a Chihuahuan Desert ecosystem near Portal, Arizona, USA:\n",
    "http://www.esapubs.org/archive/ecol/E090/118/default.htm\n",
    "\n",
    "We will be using files from the Portal Project Teaching Database:\n",
    "https://figshare.com/articles/Portal_Project_Teaching_Database/1314459\n",
    "\n",
    "This section will use the **`../data/surveys.csv`** file, which is a simplified version of the original file that can be downloaded here: https://ndownloader.figshare.com/files/2292172\n",
    "\n",
    "We are studying the species and weight of animals caught in plots (or sites) in our study area. The dataset is stored as a `.csv` file: each row holds information for a single animal, and the columns represent:\n",
    "\n",
    " Column           | Description\n",
    "----------------- | -----------\n",
    "`record_id`       | Unique id for the observation\n",
    "`month`           | month of observation\n",
    "`day`             | day of observation\n",
    "`year`            | year of observation\n",
    "`plot_id`         | ID of a particular site\n",
    "`species_id`      | 2-letter code\n",
    "`sex`             | sex of animal (“M”, “F”)\n",
    "`hindfoot_length` | length of the hindfoot in mm\n",
    "`weight`          | weight of the animal in grams\n",
    "\n",
    "The first few rows of our first file look like this:\n",
    "```\n",
    "record_id,month,day,year,plot_id,species_id,sex,hindfoot_length,weight\n",
    "1,7,16,1977,2,NL,M,32,\n",
    "2,7,16,1977,3,NL,M,33,\n",
    "3,7,16,1977,2,DM,F,37,\n",
    "4,7,16,1977,7,DM,M,36,\n",
    "5,7,16,1977,3,DM,M,35,\n",
    "6,7,16,1977,1,PF,M,14,\n",
    "7,7,16,1977,2,PE,F,,\n",
    "8,7,16,1977,1,DM,M,37,\n",
    "9,7,16,1977,1,DM,F,34,\n",
    "```"
   ]
  },
  {
   "cell_type": "markdown",
   "metadata": {
    "collapsed": true
   },
   "source": [
    "### Pandas in Python\n",
    "One of the best options for working with tabular data in Python is to use the Python Data Analysis Library (a.k.a. Pandas). The Pandas library provides data structures, produces high quality plots with matplotlib and integrates nicely with other libraries that use NumPy (which is another Python library) arrays."
   ]
  },
  {
   "cell_type": "code",
   "execution_count": null,
   "metadata": {},
   "outputs": [],
   "source": [
    "import ### as ###"
   ]
  },
  {
   "cell_type": "markdown",
   "metadata": {
    "collapsed": true
   },
   "source": [
    "## Reading CSV Data Using Pandas\n",
    "### So What’s a DataFrame?"
   ]
  },
  {
   "cell_type": "code",
   "execution_count": null,
   "metadata": {},
   "outputs": [],
   "source": [
    "# Note that pd.read_csv is used because we imported pandas as pd\n",
    "###(\"###/###/surveys.csv\")"
   ]
  },
  {
   "cell_type": "code",
   "execution_count": null,
   "metadata": {},
   "outputs": [],
   "source": [
    "### = pd.read_csv(\"../data/surveys.csv\")"
   ]
  },
  {
   "cell_type": "code",
   "execution_count": null,
   "metadata": {},
   "outputs": [],
   "source": [
    "surveys_df"
   ]
  },
  {
   "cell_type": "code",
   "execution_count": null,
   "metadata": {},
   "outputs": [],
   "source": [
    "surveys_df### # Displays the first several rows of a file"
   ]
  },
  {
   "cell_type": "markdown",
   "metadata": {},
   "source": [
    "### Demo - DataFrame Object\n",
    "Try out the methods below to see what they return."
   ]
  },
  {
   "cell_type": "code",
   "execution_count": null,
   "metadata": {},
   "outputs": [],
   "source": [
    "surveys_df.###"
   ]
  },
  {
   "cell_type": "code",
   "execution_count": null,
   "metadata": {},
   "outputs": [],
   "source": [
    "surveys_df.###"
   ]
  },
  {
   "cell_type": "code",
   "execution_count": null,
   "metadata": {},
   "outputs": [],
   "source": [
    "surveys_df.###\n",
    "# What format does it return the shape of the DataFrame in?"
   ]
  },
  {
   "cell_type": "code",
   "execution_count": null,
   "metadata": {},
   "outputs": [],
   "source": [
    "# Convert all weights from grams to kilograms\n",
    "surveys_df[###] ###"
   ]
  },
  {
   "cell_type": "markdown",
   "metadata": {},
   "source": [
    "### Calculating Statistics From Data In A Pandas DataFrame"
   ]
  },
  {
   "cell_type": "code",
   "execution_count": null,
   "metadata": {},
   "outputs": [],
   "source": [
    "pd.###(surveys_df['year'])"
   ]
  },
  {
   "cell_type": "code",
   "execution_count": null,
   "metadata": {},
   "outputs": [],
   "source": [
    "surveys_df['species_id']###"
   ]
  },
  {
   "cell_type": "markdown",
   "metadata": {},
   "source": [
    "### Exercise - Calculating Statistics\n",
    "`1`. Create a list of unique site ID’s (`plot_id`) found in the surveys data. Call it `site_names`. How many unique sites are there in the data?"
   ]
  },
  {
   "cell_type": "code",
   "execution_count": null,
   "metadata": {},
   "outputs": [],
   "source": [
    "### = pd.###(surveys_df[###])\n",
    "###.###"
   ]
  },
  {
   "cell_type": "markdown",
   "metadata": {},
   "source": [
    "`2`. What is the difference between `len(site_names)` and `surveys_df['plot_id'].nunique()`?"
   ]
  },
  {
   "cell_type": "code",
   "execution_count": null,
   "metadata": {},
   "outputs": [],
   "source": [
    "# print(len(site_names))\n",
    "# print(surveys_df['plot_id'].nunique())"
   ]
  },
  {
   "cell_type": "markdown",
   "metadata": {
    "collapsed": true
   },
   "source": [
    "## Groups in Pandas"
   ]
  },
  {
   "cell_type": "code",
   "execution_count": null,
   "metadata": {},
   "outputs": [],
   "source": [
    "surveys_df['weight'].###"
   ]
  },
  {
   "cell_type": "code",
   "execution_count": null,
   "metadata": {},
   "outputs": [],
   "source": [
    "print(\"Count:    \", surveys_df['weight'].###())\n",
    "print(\"Mean:     \", surveys_df['weight'].###())\n",
    "print(\"Std Dev.: \", surveys_df['weight'].###())\n",
    "print(\"Min:      \", surveys_df['weight'].###())\n",
    "print(\"Max:      \", surveys_df['weight'].###())"
   ]
  },
  {
   "cell_type": "code",
   "execution_count": null,
   "metadata": {},
   "outputs": [],
   "source": [
    "# Group data by sex\n",
    "### = surveys_df.###('###')"
   ]
  },
  {
   "cell_type": "code",
   "execution_count": null,
   "metadata": {},
   "outputs": [],
   "source": [
    "# Summary statistics for all numeric columns by sex\n",
    "by_sex.###"
   ]
  },
  {
   "cell_type": "code",
   "execution_count": null,
   "metadata": {},
   "outputs": [],
   "source": [
    "# Provide the mean for each numeric column by sex\n",
    "by_sex.###"
   ]
  },
  {
   "cell_type": "markdown",
   "metadata": {},
   "source": [
    "### Exercise - Grouping\n",
    "`1`. How many recorded individuals are female `F`, and how many male `M`?"
   ]
  },
  {
   "cell_type": "code",
   "execution_count": null,
   "metadata": {},
   "outputs": [],
   "source": [
    "by_sex###"
   ]
  },
  {
   "cell_type": "markdown",
   "metadata": {},
   "source": [
    "`2`. What happens when you group by two columns using the following syntax and then grab mean values:"
   ]
  },
  {
   "cell_type": "code",
   "execution_count": null,
   "metadata": {},
   "outputs": [],
   "source": [
    "by_site_sex = surveys_df.groupby(['plot_id','sex'])\n",
    "by_site_sex.###()"
   ]
  },
  {
   "cell_type": "markdown",
   "metadata": {},
   "source": [
    "`3`. Summarize `weight` values for each site (`plot_id`) in your data. HINT: it is possible to select a column once the data has been grouped."
   ]
  },
  {
   "cell_type": "code",
   "execution_count": null,
   "metadata": {},
   "outputs": [],
   "source": [
    "by_site = surveys_df.###(['###'])\n",
    "by_site['###'].###"
   ]
  },
  {
   "cell_type": "markdown",
   "metadata": {},
   "source": [
    "### Getting the Number of Records of One Species"
   ]
  },
  {
   "cell_type": "code",
   "execution_count": null,
   "metadata": {},
   "outputs": [],
   "source": [
    "surveys_df.groupby('species_id')['record_id']#.count()###"
   ]
  },
  {
   "cell_type": "markdown",
   "metadata": {
    "collapsed": true
   },
   "source": [
    "## Quick & Easy Plotting Data Using Pandas"
   ]
  },
  {
   "cell_type": "code",
   "execution_count": null,
   "metadata": {},
   "outputs": [],
   "source": [
    "by_site['record_id'].###().###(kind='bar')"
   ]
  },
  {
   "cell_type": "markdown",
   "metadata": {},
   "source": [
    "### Exercise - Plotting Challenge\n",
    "Create a `line` plot of the median `weight` per month."
   ]
  },
  {
   "cell_type": "code",
   "execution_count": null,
   "metadata": {},
   "outputs": [],
   "source": [
    "surveys_df.###('###')['###'].###().plot(kind='###')"
   ]
  },
  {
   "cell_type": "markdown",
   "metadata": {},
   "source": [
    "## Summary Example"
   ]
  },
  {
   "cell_type": "code",
   "execution_count": null,
   "metadata": {},
   "outputs": [],
   "source": [
    "site_sex_totalw = by_site_sex['weight'].###()\n",
    "site_sex_totalw###"
   ]
  },
  {
   "cell_type": "code",
   "execution_count": null,
   "metadata": {},
   "outputs": [],
   "source": [
    "# Change the right-most categorical values into columns\n",
    "sst = site_sex_totalw.unstack()\n",
    "sst"
   ]
  },
  {
   "cell_type": "code",
   "execution_count": null,
   "metadata": {},
   "outputs": [],
   "source": [
    "s_plot = sst.plot(kind='bar', ###,\n",
    "                  title=\"Total weight by site and sex\")\n",
    "s_plot.set_ylabel(\"Weight\")\n",
    "s_plot.set_xlabel(\"Site\")"
   ]
  },
  {
   "cell_type": "code",
   "execution_count": null,
   "metadata": {},
   "outputs": [],
   "source": []
  }
 ],
 "metadata": {
  "anaconda-cloud": {},
  "kernelspec": {
   "display_name": "Python 3",
   "language": "python",
   "name": "python3"
  },
  "language_info": {
   "codemirror_mode": {
    "name": "ipython",
    "version": 3
   },
   "file_extension": ".py",
   "mimetype": "text/x-python",
   "name": "python",
   "nbconvert_exporter": "python",
   "pygments_lexer": "ipython3",
   "version": "3.7.4"
  }
 },
 "nbformat": 4,
 "nbformat_minor": 1
}
