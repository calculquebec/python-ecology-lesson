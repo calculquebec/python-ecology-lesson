{
 "cells": [
  {
   "cell_type": "markdown",
   "metadata": {},
   "source": [
    "# Data Analysis and Visualization in Python\n",
    "## Data Ingest and Visualization - Matplotlib and Pandas\n",
    "Questions\n",
    "* What other tools can I use to create plots apart from ggplot?\n",
    "* Why should I use Python to create plots?\n",
    "\n",
    "Objectives\n",
    "* Import the pyplot toolbox to create figures in Python.\n",
    "* Use matplotlib to make adjustments to Pandas or plotnine objects."
   ]
  },
  {
   "cell_type": "markdown",
   "metadata": {},
   "source": [
    "## Loading our Data"
   ]
  },
  {
   "cell_type": "code",
   "execution_count": null,
   "metadata": {},
   "outputs": [],
   "source": [
    "import pandas as pd\n",
    "\n",
    "surveys_df = pd.read_csv('../data/surveys.csv')"
   ]
  },
  {
   "cell_type": "markdown",
   "metadata": {},
   "source": [
    "## Matplotlib package\n",
    "A great resource for help styling your figures is the Matplotlib gallery (http://matplotlib.org/gallery.html), which includes plots in many different styles and the source code that creates them. The simplest of plots is the 2 dimensional line plot."
   ]
  },
  {
   "cell_type": "markdown",
   "metadata": {},
   "source": [
    "### Using the `pyplot` toolbox"
   ]
  },
  {
   "cell_type": "code",
   "execution_count": null,
   "metadata": {},
   "outputs": [],
   "source": [
    "import matplotlib.pyplot as ###"
   ]
  },
  {
   "cell_type": "markdown",
   "metadata": {},
   "source": [
    "### Link Pandas, Matplotlib and Plotnine"
   ]
  },
  {
   "cell_type": "code",
   "execution_count": null,
   "metadata": {},
   "outputs": [],
   "source": [
    "import ### as ###\n",
    "import warnings\n",
    "warnings.simplefilter(action='ignore', category=FutureWarning)\n",
    "warnings.simplefilter(action='ignore', category=UserWarning)"
   ]
  },
  {
   "cell_type": "code",
   "execution_count": null,
   "metadata": {},
   "outputs": [],
   "source": [
    "# Create a plot from Pandas (implicit figure)\n",
    "my_plot = surveys_df.###(\"hindfoot_length\", \"weight\", kind=\"###\")\n",
    "###.show() # Not necessary, but looks better in Jupyter Notebooks"
   ]
  },
  {
   "cell_type": "code",
   "execution_count": null,
   "metadata": {},
   "outputs": [],
   "source": [
    "# Create a plot from Pandas with a Matplotlib figure\n",
    "fig, ax1 = plt.###()\n",
    "surveys_df.plot(\"hindfoot_length\", \"weight\", kind=\"scatter\", ###)\n",
    "\n",
    "# Provide further adaptations with matplotlib:\n",
    "ax1.set_###(\"Hindfoot length\")\n",
    "fig.###('Scatter plot of weight versus hindfoot length', fontsize=15)\n",
    "\n",
    "plt.show() # Not necessary, but looks better in Jupyter Notebooks"
   ]
  },
  {
   "cell_type": "markdown",
   "metadata": {},
   "source": [
    "To retrieve the Matplotlib figure object from Plotnine for customization, use the `draw()` method:"
   ]
  },
  {
   "cell_type": "code",
   "execution_count": null,
   "metadata": {},
   "outputs": [],
   "source": [
    "# Create a plot from Plotnine\n",
    "myplot = (p9.ggplot(data=surveys_df,\n",
    "                    mapping=p9.aes(x='hindfoot_length', y='weight'))\n",
    "          + p9.geom_###())\n",
    "\n",
    "# Convert the Plotnine object to a Matplotlib object\n",
    "my_plt_version = myplot.###()\n",
    "p9_ax = my_plt_version.### # Each subplot axis is an item in a list\n",
    "\n",
    "# Provide further adaptations with Matplotlib:\n",
    "p9_ax.set_xlabel(\"Hindfoot length\")\n",
    "p9_ax.set_title('Scatter plot of weight versus hindfoot length', fontsize=15)\n",
    "\n",
    "plt.show() # Not necessary in Jupyter Notebooks"
   ]
  },
  {
   "cell_type": "markdown",
   "metadata": {},
   "source": [
    "### Saving Matplotlib figures"
   ]
  },
  {
   "cell_type": "code",
   "execution_count": null,
   "metadata": {},
   "outputs": [],
   "source": [
    "fig.###(\"my_plot_name.png\")"
   ]
  },
  {
   "cell_type": "markdown",
   "metadata": {},
   "source": [
    "### Exercise - Saving figures\n",
    "Save in `pdf` format in 300 dpi"
   ]
  },
  {
   "cell_type": "code",
   "execution_count": null,
   "metadata": {},
   "outputs": [],
   "source": [
    "fig.savefig(\"my_plot_name.###\", ###)"
   ]
  },
  {
   "cell_type": "markdown",
   "metadata": {},
   "source": [
    "## Make other types of plots\n",
    "http://matplotlib.org/users/screenshots.html"
   ]
  },
  {
   "cell_type": "markdown",
   "metadata": {
    "collapsed": true
   },
   "source": [
    "### Homework\n",
    "Use line plots to visualize the surveys data"
   ]
  },
  {
   "cell_type": "code",
   "execution_count": null,
   "metadata": {},
   "outputs": [],
   "source": []
  }
 ],
 "metadata": {
  "anaconda-cloud": {},
  "kernelspec": {
   "display_name": "Python 3",
   "language": "python",
   "name": "python3"
  },
  "language_info": {
   "codemirror_mode": {
    "name": "ipython",
    "version": 3
   },
   "file_extension": ".py",
   "mimetype": "text/x-python",
   "name": "python",
   "nbconvert_exporter": "python",
   "pygments_lexer": "ipython3",
   "version": "3.7.4"
  }
 },
 "nbformat": 4,
 "nbformat_minor": 1
}
