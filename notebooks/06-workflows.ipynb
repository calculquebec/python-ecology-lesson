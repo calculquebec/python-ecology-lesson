{
 "cells": [
  {
   "cell_type": "markdown",
   "metadata": {},
   "source": [
    "# Data Analysis and Visualization in Python\n",
    "## Data workflows and automation\n",
    "Questions\n",
    "* Can I automate operations in Python?\n",
    "* What are functions and why should I use them?\n",
    "\n",
    "Objectives\n",
    "* Describe why `for` loops are used in Python.\n",
    "* Employ `for` loops to automate data analysis.\n",
    "* Write unique filenames in Python.\n",
    "* Build reusable code in Python.\n",
    "* Write functions using conditional statements (`if`, `then`, `else`)."
   ]
  },
  {
   "cell_type": "markdown",
   "metadata": {},
   "source": [
    "## Loading our Data"
   ]
  },
  {
   "cell_type": "code",
   "execution_count": null,
   "metadata": {},
   "outputs": [],
   "source": [
    "import pandas as pd\n",
    "\n",
    "# Load the data into a DataFrame\n",
    "surveys_df = pd.read_csv('../data/surveys.csv')\n",
    "species_df = pd.read_csv(\"../data/species.csv\")"
   ]
  },
  {
   "cell_type": "markdown",
   "metadata": {},
   "source": [
    "## Automating data processing using For Loops"
   ]
  },
  {
   "cell_type": "code",
   "execution_count": null,
   "metadata": {},
   "outputs": [],
   "source": [
    "import os"
   ]
  },
  {
   "cell_type": "code",
   "execution_count": null,
   "metadata": {},
   "outputs": [],
   "source": [
    "os.mkdir('yearly_files')"
   ]
  },
  {
   "cell_type": "code",
   "execution_count": null,
   "metadata": {
    "scrolled": true
   },
   "outputs": [],
   "source": [
    "os.listdir('.')"
   ]
  },
  {
   "cell_type": "code",
   "execution_count": null,
   "metadata": {},
   "outputs": [],
   "source": [
    "# Select only data for 2002\n",
    "surveys2002 = surveys_df[surveys_df['year'] ### ###]\n",
    "\n",
    "# Write the new DataFrame to a csv file\n",
    "surveys2002.to_csv('yearly_files/surveys2002.csv')\n",
    "os.listdir('yearly_files')"
   ]
  },
  {
   "cell_type": "code",
   "execution_count": null,
   "metadata": {},
   "outputs": [],
   "source": [
    "surveys_df['year']###"
   ]
  },
  {
   "cell_type": "code",
   "execution_count": null,
   "metadata": {},
   "outputs": [],
   "source": [
    "for year in surveys_df['year'].unique():\n",
    "    filename='yearly_files/surveys' + ### + '.csv'\n",
    "    print(filename)"
   ]
  },
  {
   "cell_type": "code",
   "execution_count": null,
   "metadata": {},
   "outputs": [],
   "source": [
    "for year in surveys_df['year'].unique():\n",
    "    # Select data for the year\n",
    "    surveys_### = surveys_df[surveys_df['year'] == ###]\n",
    "    \n",
    "    # Write the new DataFrame to a csv file\n",
    "    filename='yearly_files/surveys' + str(year) + '.csv'\n",
    "    surveys_year.to_csv(filename)\n",
    "\n",
    "os.listdir('yearly_files')"
   ]
  },
  {
   "cell_type": "markdown",
   "metadata": {
    "collapsed": true
   },
   "source": [
    "### Exercises\n",
    "`1`. Some of the surveys you saved have missing data (they have null values that show up as NaN - Not A Number - in the DataFrames and do not show up in the text files). Modify the for loop so that the entries with null values are not included in the yearly files. Hint: `dropna()`"
   ]
  },
  {
   "cell_type": "code",
   "execution_count": null,
   "metadata": {
    "scrolled": true
   },
   "outputs": [],
   "source": [
    "for year in surveys_df['year'].unique():\n",
    "    # Select data for the year\n",
    "    surveys_year = surveys_df[surveys_df['year'] == year].###\n",
    "    \n",
    "    # Write the new DataFrame to a csv file\n",
    "    filename='yearly_files/surveys' + str(year) + '.csv'\n",
    "    surveys_year.to_csv(filename)"
   ]
  },
  {
   "cell_type": "markdown",
   "metadata": {},
   "source": [
    "`2`. Let’s say you only want to look at data from a given multiple of years. How would you modify your loop in order to generate a data file for only every 5th year, starting from 1977? Hint: `range(start, stop, step)`"
   ]
  },
  {
   "cell_type": "code",
   "execution_count": null,
   "metadata": {},
   "outputs": [],
   "source": [
    "for year in ###(1977, surveys_df['year'].### + 1, ###):\n",
    "    # Select data for the year\n",
    "    surveys_year = surveys_df[surveys_df['year'] == year].dropna()\n",
    "    \n",
    "    # Write the new DataFrame to a csv file\n",
    "    filename='yearly_files/surveys' + str(year) + '.csv'\n",
    "    surveys_year.to_csv(filename)"
   ]
  },
  {
   "cell_type": "markdown",
   "metadata": {},
   "source": [
    "`3`. Instead of splitting out the data by years, a colleague wants to analyse each species separately. How would you write a unique csv file for each species?"
   ]
  },
  {
   "cell_type": "code",
   "execution_count": null,
   "metadata": {},
   "outputs": [],
   "source": [
    "os.mkdir('species_files')"
   ]
  },
  {
   "cell_type": "code",
   "execution_count": null,
   "metadata": {},
   "outputs": [],
   "source": [
    "merged_left = pd.merge(left=surveys_df, right=species_df, how='###', on=\"species###\")\n",
    "\n",
    "for species in merged_left['###'].unique():\n",
    "    # Select data for the year\n",
    "    merged_left_species = merged_left[merged_left### == ###].dropna()\n",
    "    \n",
    "    # Write the new DataFrame to a csv file\n",
    "    filename='species_files/surveys_' + ### + '.csv'\n",
    "    merged_left_species.to_csv(filename)\n",
    "\n",
    "os.listdir('species_files')"
   ]
  },
  {
   "cell_type": "markdown",
   "metadata": {},
   "source": [
    "## Building reusable and modular code with functions"
   ]
  },
  {
   "cell_type": "code",
   "execution_count": null,
   "metadata": {},
   "outputs": [],
   "source": [
    "### one_year_csv_writer(this_year, all_data):\n",
    "    \"\"\"\n",
    "    Writes a csv file for data from a given year.\n",
    "\n",
    "    this_year --- year for which data is extracted\n",
    "    all_data --- DataFrame with multi-year data\n",
    "    \"\"\"\n",
    "\n",
    "    # Select data for the year\n",
    "    surveys_year = ###_data[###_data['year'] == ###_year]\n",
    "\n",
    "    # Write the new DataFrame to a csv file\n",
    "    filename = 'yearly_files/function_surveys' + ###(###_year) + '.csv'\n",
    "    surveys_year.to_csv(filename)"
   ]
  },
  {
   "cell_type": "code",
   "execution_count": null,
   "metadata": {},
   "outputs": [],
   "source": [
    "one_year_csv_writer###"
   ]
  },
  {
   "cell_type": "code",
   "execution_count": null,
   "metadata": {},
   "outputs": [],
   "source": [
    "one_year_csv_writer(2002, surveys_df)\n",
    "os.listdir('yearly_files')"
   ]
  },
  {
   "cell_type": "code",
   "execution_count": null,
   "metadata": {},
   "outputs": [],
   "source": [
    "def yearly_data_csv_writer(start_year, end_year, all_data):\n",
    "    \"\"\"\n",
    "    Writes separate csv files for each year of data.\n",
    "\n",
    "    start_year --- the first year of data we want\n",
    "    end_year --- the last year of data we want\n",
    "    all_data --- DataFrame with multi-year data\n",
    "    \"\"\"\n",
    "\n",
    "    # \"end_year\" is the last year of data we want to pull, so we loop to end_year+1\n",
    "    for year in ###(start_year, end_year ###):\n",
    "        one_year_csv_writer(year, all_data)"
   ]
  },
  {
   "cell_type": "code",
   "execution_count": null,
   "metadata": {},
   "outputs": [],
   "source": [
    "yearly_data_csv_writer(1977, 2002, surveys_df)\n",
    "os.listdir('yearly_files')"
   ]
  },
  {
   "cell_type": "markdown",
   "metadata": {},
   "source": [
    "### Exercise - More functions\n",
    "1. Add two arguments to the functions we wrote that take the path of the directory where the files will be written (`folder_to_save`) and the root of the file name (`root_name`). Create a new set of files with a different name.\n",
    "1. How could you use the function `yearly_data_csv_writer` to create a CSV file for only one year?\n",
    "1. Make the functions return a list of the files they have written."
   ]
  },
  {
   "cell_type": "code",
   "execution_count": null,
   "metadata": {},
   "outputs": [],
   "source": [
    "def one_year_csv_writer(this_year, all_data):\n",
    "    \"\"\"\n",
    "    Writes a csv file for data from a given year. Returns the filename.\n",
    "\n",
    "    this_year --- year for which data is extracted\n",
    "    all_data --- DataFrame with multi-year data\n",
    "    ### --- folder to save the data files\n",
    "    ### --- root of the filenames to save the data\n",
    "    \"\"\"\n",
    "\n",
    "    # Select data for the year\n",
    "    surveys_year = all_data[all_data['year'] == this_year]\n",
    "\n",
    "    # Write the new DataFrame to a csv file\n",
    "    filename = os.path.join(###, ''.join([###, str(this_year), '.csv']))\n",
    "    surveys_year.to_csv(filename)\n",
    "    ###"
   ]
  },
  {
   "cell_type": "code",
   "execution_count": null,
   "metadata": {},
   "outputs": [],
   "source": [
    "def yearly_data_csv_writer(start_year, end_year, all_data):\n",
    "    \"\"\"\n",
    "    Modified from yearly_data_csv_writer to collect and return filenames\n",
    "\n",
    "    start_year --- the first year of data we want\n",
    "    end_year --- the last year of data we want\n",
    "    all_data --- DataFrame with multi-year data\n",
    "    ### --- folder to save the data files\n",
    "    ### --- root of the filenames to save the data\n",
    "    \"\"\"\n",
    "    \n",
    "    # filenames = ###\n",
    "\n",
    "    # \"end_year\" is the last year of data we want to pull, so we loop to end_year+1\n",
    "    for year in range(start_year, end_year + 1):\n",
    "        one_year_csv_writer(year, all_data ###)\n",
    "        \n",
    "    ###"
   ]
  },
  {
   "cell_type": "code",
   "execution_count": null,
   "metadata": {},
   "outputs": [],
   "source": [
    "yearly_data_csv_writer(###, ###, surveys_df, 'yearly_files', 'rootname')"
   ]
  },
  {
   "cell_type": "markdown",
   "metadata": {},
   "source": [
    "### Default values for Arguments"
   ]
  },
  {
   "cell_type": "code",
   "execution_count": null,
   "metadata": {},
   "outputs": [],
   "source": [
    "def yearly_data_arg_test(all_data, start_year ###, end_year ###):\n",
    "    \"\"\"\n",
    "    Modified from yearly_data_csv_writer to test default argument values!\n",
    "\n",
    "    all_data --- DataFrame with multi-year data\n",
    "    start_year --- the first year of data we want --- default: ###\n",
    "    end_year --- the last year of data we want --- default: ###\n",
    "    \"\"\"\n",
    "\n",
    "    return start_year### end_year"
   ]
  },
  {
   "cell_type": "code",
   "execution_count": null,
   "metadata": {},
   "outputs": [],
   "source": [
    "start###end = yearly_data_arg_test (surveys_df, 1988, 1993)\n",
    "print('Both optional arguments:\\t', start, end)\n",
    "\n",
    "start###end = yearly_data_arg_test (surveys_df)\n",
    "print('Default values:\\t\\t\\t', start, end)"
   ]
  },
  {
   "cell_type": "code",
   "execution_count": null,
   "metadata": {},
   "outputs": [],
   "source": [
    "def yearly_data_arg_test(all_data, start_year = ###, end_year = ###):\n",
    "    \"\"\"\n",
    "    Modified from yearly_data_csv_writer to test default argument values!\n",
    "\n",
    "    all_data --- DataFrame with multi-year data\n",
    "    start_year --- the first year of data we want --- default: ### - check all_data\n",
    "    end_year --- the last year of data we want --- default: ### - check all_data\n",
    "    \"\"\"\n",
    "\n",
    "    if ### start_year:\n",
    "        start_year = ###(all_data['year'])\n",
    "    if not end_year:\n",
    "        end_year = ###(all_data['year'])\n",
    "\n",
    "    return start_year, end_year"
   ]
  },
  {
   "cell_type": "code",
   "execution_count": null,
   "metadata": {},
   "outputs": [],
   "source": [
    "start,end = yearly_data_arg_test (surveys_df)\n",
    "print('Default values:\\t\\t\\t', start, end)\n",
    "\n",
    "start,end = yearly_data_arg_test (surveys_df, 1988, 1993)\n",
    "print('No keywords:\\t\\t\\t', start, end)\n",
    "\n",
    "start,end = yearly_data_arg_test (surveys_df, start_year = 1988, end_year = 1993)\n",
    "print('Both keywords, in order:\\t', start, end)\n",
    "\n",
    "start,end = yearly_data_arg_test (surveys_df, end_year = 1993, start_year = 1988)\n",
    "print('Both keywords, flipped:\\t\\t', start, end)\n",
    "\n",
    "start,end = yearly_data_arg_test (surveys_df, start_year = 1988)\n",
    "print('One keyword, default end:\\t', start, end)\n",
    "\n",
    "start,end = yearly_data_arg_test (surveys_df, end_year = 1993)\n",
    "print('One keyword, default start:\\t', start, end)"
   ]
  },
  {
   "cell_type": "markdown",
   "metadata": {},
   "source": [
    "## If Statements"
   ]
  },
  {
   "cell_type": "markdown",
   "metadata": {},
   "source": [
    "### Exercise (done with the group) - Complete example\n",
    "`1`. Make sure the `folder_to_save` does not exist. Hint:\n",
    "\n",
    "```python\n",
    "if 'dir_name_here' in os.listdir('.'):\n",
    "   print('Processed directory exists')\n",
    "else:\n",
    "   os.mkdir('dir_name_here')\n",
    "   print('Processed directory created')\n",
    "\n",
    "```\n",
    "`2`. Use `None` as default `start_year` and `end_year`"
   ]
  },
  {
   "cell_type": "code",
   "execution_count": null,
   "metadata": {},
   "outputs": [],
   "source": [
    "def one_year_csv_writer(all_data, folder_to_save, root_name, ###):\n",
    "    \"\"\"\n",
    "    Writes a csv file for data from a given year. Returns the filename.\n",
    "\n",
    "    all_data --- DataFrame with multi-year data\n",
    "    folder_to_save --- folder to save the data files\n",
    "    root_name --- root of the filenames to save the data\n",
    "    ### --- year for which data is extracted\n",
    "    \"\"\"\n",
    "    \n",
    "    # Select data for the year\n",
    "    surveys_year = all_data[all_data['year'] == this_year]\n",
    "\n",
    "    # Write the new DataFrame to a csv file\n",
    "    filename = os.path.join(folder_to_save, ''.###([root_name, str(this_year), '.csv']))\n",
    "    surveys_year.to_csv(filename)\n",
    "    return filename"
   ]
  },
  {
   "cell_type": "code",
   "execution_count": null,
   "metadata": {},
   "outputs": [],
   "source": [
    "def yearly_data_csv_writer(all_data, folder_to_save, root_name, start_year = ###, end_year = None):\n",
    "    \"\"\"\n",
    "    Modified from yearly_data_csv_writer to test default argument values!\n",
    "\n",
    "    all_data --- DataFrame with multi-year data\n",
    "    folder_to_save --- folder to save the data files\n",
    "    root_name --- root of the filenames to save the data\n",
    "    ### --- the first year of data we want --- default: ### - check all_data\n",
    "    ### --- the last year of data we want --- default: ### - check all_data\n",
    "    \"\"\"\n",
    "    \n",
    "    if folder_to_save ### os.listdir('.'):\n",
    "        print('Processed directory exists')\n",
    "    else:\n",
    "        os.mkdir(folder_to_save)\n",
    "        print('Processed directory created')\n",
    "\n",
    "    if not start_year:\n",
    "        start_year = min(all_data['year'])\n",
    "    if not end_year:\n",
    "        end_year = max(all_data['year'])\n",
    "        \n",
    "    filenames = []\n",
    "\n",
    "    # \"end_year\" is the last year of data we want to pull, so we loop to end_year+1\n",
    "    for year in range(start_year, end_year + 1):\n",
    "        filenames.###(one_year_csv_writer(all_data, folder_to_save, root_name, year))\n",
    "        \n",
    "    return filenames"
   ]
  },
  {
   "cell_type": "code",
   "execution_count": null,
   "metadata": {},
   "outputs": [],
   "source": [
    "yearly_data_csv_writer(surveys_df, 'final', 'result', 1995, 1998)"
   ]
  },
  {
   "cell_type": "code",
   "execution_count": null,
   "metadata": {},
   "outputs": [],
   "source": []
  }
 ],
 "metadata": {
  "anaconda-cloud": {},
  "kernelspec": {
   "display_name": "Python 3",
   "language": "python",
   "name": "python3"
  },
  "language_info": {
   "codemirror_mode": {
    "name": "ipython",
    "version": 3
   },
   "file_extension": ".py",
   "mimetype": "text/x-python",
   "name": "python",
   "nbconvert_exporter": "python",
   "pygments_lexer": "ipython3",
   "version": "3.6.5"
  }
 },
 "nbformat": 4,
 "nbformat_minor": 1
}
