{
 "cells": [
  {
   "cell_type": "markdown",
   "metadata": {},
   "source": [
    "# Data Analysis and Visualization in Python\n",
    "## Data workflows and automation\n",
    "Questions\n",
    "* Can I automate operations in Python?\n",
    "* What are functions and why should I use them?\n",
    "\n",
    "Objectives\n",
    "* Describe why `for` loops are used in Python.\n",
    "* Employ `for` loops to automate data analysis.\n",
    "* Write unique filenames in Python.\n",
    "* Build reusable code in Python.\n",
    "* Write functions using conditional statements (`if`, `then`, `else`)."
   ]
  },
  {
   "cell_type": "markdown",
   "metadata": {},
   "source": [
    "## Loading our Data"
   ]
  },
  {
   "cell_type": "code",
   "execution_count": null,
   "metadata": {},
   "outputs": [],
   "source": [
    "import pandas as pd\n",
    "\n",
    "# Load the data into a DataFrame\n",
    "surveys_df = pd.read_csv('../data/surveys.csv')\n",
    "species_df = pd.read_csv(\"../data/species.csv\")"
   ]
  },
  {
   "cell_type": "markdown",
   "metadata": {},
   "source": [
    "## Automating data processing using For Loops"
   ]
  },
  {
   "cell_type": "code",
   "execution_count": null,
   "metadata": {},
   "outputs": [],
   "source": [
    "import os"
   ]
  },
  {
   "cell_type": "code",
   "execution_count": null,
   "metadata": {},
   "outputs": [],
   "source": [
    "###_years = \"yearly_files\"\n",
    "os.###(folder_years)"
   ]
  },
  {
   "cell_type": "code",
   "execution_count": null,
   "metadata": {
    "scrolled": true
   },
   "outputs": [],
   "source": [
    "os.###('.')"
   ]
  },
  {
   "cell_type": "code",
   "execution_count": null,
   "metadata": {},
   "outputs": [],
   "source": [
    "# Select only data for 2002\n",
    "surveys2002 = surveys_df[surveys_df['year'] ### ###]\n",
    "\n",
    "# Write the new DataFrame to a csv file\n",
    "surveys2002.###(os.path.join(folder_years, \"surveys_2002.csv\"), ###)\n",
    "os.listdir(###)"
   ]
  },
  {
   "cell_type": "code",
   "execution_count": null,
   "metadata": {},
   "outputs": [],
   "source": [
    "surveys_df['year']###"
   ]
  },
  {
   "cell_type": "code",
   "execution_count": null,
   "metadata": {},
   "outputs": [],
   "source": [
    "for year in surveys_df['year'].unique():\n",
    "    filename = os.path.join(folder_years, \"surveys_\" + ### + \".csv\")\n",
    "    print(filename)"
   ]
  },
  {
   "cell_type": "code",
   "execution_count": null,
   "metadata": {},
   "outputs": [],
   "source": [
    "for year in surveys_df['year'].unique():\n",
    "    # Select data for the year\n",
    "    surveys_### = surveys_df[surveys_df['year'] == ###]\n",
    "    \n",
    "    # Write the new DataFrame to a csv file\n",
    "    filename = os.path.join(folder_years, \"surveys_\" + str(year) + \".csv\")\n",
    "    surveys_year.###(filename, index=False)\n",
    "\n",
    "os.listdir(folder_years)"
   ]
  },
  {
   "cell_type": "markdown",
   "metadata": {
    "collapsed": true
   },
   "source": [
    "### Exercises - Creating multiple CSV files\n",
    "Instead of splitting out the data by years, a colleague wants to analyse each species separately. How would you write a unique csv file for each species?"
   ]
  },
  {
   "cell_type": "code",
   "execution_count": null,
   "metadata": {},
   "outputs": [],
   "source": [
    "folder_### = \"species_files\"\n",
    "os.mkdir(folder_species)"
   ]
  },
  {
   "cell_type": "code",
   "execution_count": null,
   "metadata": {},
   "outputs": [],
   "source": [
    "merged_left = pd.merge(left=surveys_df, right=species_df, how='###', on=\"species###\")\n",
    "\n",
    "for species in merged_left['###'].unique():\n",
    "    # Select data for the current species\n",
    "    merged_left_species = merged_left[merged_left### == ###].dropna()\n",
    "\n",
    "    # Write the new DataFrame to a csv file\n",
    "    filename = os.path.join(folder_species, \"surveys_\" + ### + \".csv\")\n",
    "    merged_left_species.###(filename, index=###)\n",
    "\n",
    "os.listdir(folder_###)"
   ]
  },
  {
   "cell_type": "markdown",
   "metadata": {},
   "source": [
    "## Building reusable and modular code with functions"
   ]
  },
  {
   "cell_type": "code",
   "execution_count": null,
   "metadata": {},
   "outputs": [],
   "source": [
    "### one_year_csv_writer(all_data, folder_to_save, prefix, this_year):\n",
    "    \"\"\"\n",
    "    Writes a csv file for data from a given year.\n",
    "\n",
    "    all_data --- DataFrame with multi-year data\n",
    "    folder_to_save --- folder to save the data files\n",
    "    prefix --- prefix for the CSV file name\n",
    "    this_year --- year for which data is extracted\n",
    "    \"\"\"\n",
    "\n",
    "    # Select data for the year\n",
    "    data_for_year = ###_data[###_data['year'] == ###_year]\n",
    "\n",
    "    # Write the new DataFrame to a csv file\n",
    "    filename = os.path.join(folder_to_save, prefix + ###(###_year) + \".csv\")\n",
    "    data_for_year.to_csv(filename, index=False)"
   ]
  },
  {
   "cell_type": "code",
   "execution_count": null,
   "metadata": {},
   "outputs": [],
   "source": [
    "###(one_year_csv_writer)"
   ]
  },
  {
   "cell_type": "code",
   "execution_count": null,
   "metadata": {},
   "outputs": [],
   "source": [
    "one_year_csv_writer(surveys_df, folder_###, \"###_surveys_\", 2002)\n",
    "os.listdir(folder_years)"
   ]
  },
  {
   "cell_type": "code",
   "execution_count": null,
   "metadata": {},
   "outputs": [],
   "source": [
    "def yearly_data_csv_writer(all_data, folder_to_save, prefix, ###, ###):\n",
    "    \"\"\"\n",
    "    Writes separate csv files for each year of data.\n",
    "\n",
    "    all_data --- DataFrame with multi-year data\n",
    "    folder_to_save --- folder to save the data files\n",
    "    prefix --- prefix for the CSV file name\n",
    "    start_year --- the first year of data we want\n",
    "    end_year --- the last year of data we want\n",
    "    \"\"\"\n",
    "\n",
    "    # \"end_year\" is the last year of data we want to pull, so we loop to end_year+1\n",
    "    for year in ###(start_year, end_year ###):\n",
    "        one_year_csv_writer(all_data, folder_to_save, prefix, year)"
   ]
  },
  {
   "cell_type": "code",
   "execution_count": null,
   "metadata": {},
   "outputs": [],
   "source": [
    "yearly_data_csv_writer(surveys_df, folder_years, \"###_surveys_\", ###, ###)\n",
    "os.listdir(folder_years)"
   ]
  },
  {
   "cell_type": "markdown",
   "metadata": {},
   "source": [
    "## Testing arguments with conditions\n",
    "* Test if the `folder_to_save` does not exist. Hint:\n",
    "\n",
    "```python\n",
    "if 'dir_name_here' in os.listdir('.'):\n",
    "   print('Processed directory exists')\n",
    "else:\n",
    "   os.mkdir('dir_name_here')\n",
    "   print('Processed directory created')\n",
    "\n",
    "```\n",
    "* Use `None` as default `start_year` and `end_year`.\n",
    "* Make the functions return a list of the files they have written."
   ]
  },
  {
   "cell_type": "code",
   "execution_count": null,
   "metadata": {},
   "outputs": [],
   "source": [
    "def one_year_csv_writer(all_data, folder_to_save, prefix, this_year):\n",
    "    \"\"\"\n",
    "    Writes a csv file for data from a given year. Returns the filename.\n",
    "\n",
    "    all_data --- DataFrame with multi-year data\n",
    "    folder_to_save --- folder to save the data files\n",
    "    prefix --- prefix for the CSV file name\n",
    "    this_year --- year for which data is extracted\n",
    "    \"\"\"\n",
    "\n",
    "    # Select data for the year\n",
    "    data_for_year = all_data[all_data['year'] == this_year]\n",
    "\n",
    "    # Write the new DataFrame to a csv file\n",
    "    filename = os.path.join(folder_to_save, prefix + str(this_year) + \".csv\")\n",
    "    data_for_year.to_csv(filename, index=False)\n",
    "\n",
    "    ### ###"
   ]
  },
  {
   "cell_type": "code",
   "execution_count": null,
   "metadata": {},
   "outputs": [],
   "source": [
    "def yearly_data_csv_writer(all_data, folder_to_save, prefix,\n",
    "                           start_year = ###, end_year = ###):\n",
    "    \"\"\"\n",
    "    Modified from yearly_data_csv_writer to test default argument values!\n",
    "\n",
    "    all_data --- DataFrame with multi-year data\n",
    "    folder_to_save --- folder to save the data files\n",
    "    prefix --- prefix for the CSV file name\n",
    "    ### --- the first year of data we want --- default: ### - check all_data\n",
    "    ### --- the last year of data we want --- default: ### - check all_data\n",
    "    \"\"\"\n",
    "\n",
    "    ### folder_to_save ### os.listdir('.'):\n",
    "        print('Processed directory exists')\n",
    "    ###:\n",
    "        os.mkdir(folder_to_save)\n",
    "        print('Processed directory created')\n",
    "\n",
    "    if ### start_year:\n",
    "        start_year = ###(all_data['year'])\n",
    "    if not end_year:\n",
    "        end_year = ###(all_data['year'])\n",
    "\n",
    "    filenames = ###\n",
    "\n",
    "    # \"end_year\" is the last year of data we want to pull, so we loop to end_year+1\n",
    "    for year in range(start_year, end_year + 1):\n",
    "        filenames.###(one_year_csv_writer(all_data, folder_to_save, prefix, year))\n",
    "\n",
    "    ###"
   ]
  },
  {
   "cell_type": "code",
   "execution_count": null,
   "metadata": {},
   "outputs": [],
   "source": [
    "yearly_data_csv_writer(surveys_df, 'final', 'results_', 1995, 1998)"
   ]
  },
  {
   "cell_type": "code",
   "execution_count": null,
   "metadata": {},
   "outputs": [],
   "source": [
    "yearly_data_csv_writer(surveys_df, 'final', 'results_')"
   ]
  },
  {
   "cell_type": "code",
   "execution_count": null,
   "metadata": {},
   "outputs": [],
   "source": []
  }
 ],
 "metadata": {
  "anaconda-cloud": {},
  "kernelspec": {
   "display_name": "Python 3",
   "language": "python",
   "name": "python3"
  },
  "language_info": {
   "codemirror_mode": {
    "name": "ipython",
    "version": 3
   },
   "file_extension": ".py",
   "mimetype": "text/x-python",
   "name": "python",
   "nbconvert_exporter": "python",
   "pygments_lexer": "ipython3",
   "version": "3.7.4"
  }
 },
 "nbformat": 4,
 "nbformat_minor": 1
}
