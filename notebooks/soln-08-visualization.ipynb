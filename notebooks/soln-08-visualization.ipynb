{
 "cells": [
  {
   "cell_type": "markdown",
   "metadata": {},
   "source": [
    "# Data Analysis and Visualization in Python\n",
    "## Data Ingest & Visualization - Matplotlib & Pandas\n",
    "Questions\n",
    "* How to visualize the data?\n",
    "\n",
    "Objectives\n",
    "* Import the pyplot toolbox to create figures in Python."
   ]
  },
  {
   "cell_type": "markdown",
   "metadata": {},
   "source": [
    "### How to Use Jupyter\n",
    "When a cell is in edit mode:\n",
    "\n",
    "  Shortcut  | Description\n",
    "----------- | -----------\n",
    "Shift+Enter | Run the cell, and go to the next\n",
    "Tab         | Indent code or auto-completion\n",
    "Esc         | Go to command mode\n",
    "\n",
    "When a cell is in command mode:\n",
    "\n",
    "  Shortcut   | Description\n",
    "------------ | -----------\n",
    "Shift+Enter  | Run the cell, and go to the next\n",
    "Double-click | Go to edit mode\n",
    "Enter        | Go to edit mode\n",
    "\n",
    "  Shortcut   | Description\n",
    "------------ | -----------\n",
    "A            | Insert a cell above\n",
    "B            | Insert a cell below\n",
    "C            | Copy the current cell\n",
    "V            | Paste the cell below\n",
    "D D          | Delete the current cell\n",
    "\n",
    "To reset all cells:\n",
    "* Go to the top menu, and select Kernel -> Restart & Clear Output"
   ]
  },
  {
   "cell_type": "markdown",
   "metadata": {},
   "source": [
    "## Obtain data"
   ]
  },
  {
   "cell_type": "code",
   "execution_count": null,
   "metadata": {
    "collapsed": true
   },
   "outputs": [],
   "source": [
    "import pandas as pd\n",
    "\n",
    "# Load the data into a DataFrame\n",
    "surveys_df = pd.read_csv('../data/surveys.csv')\n",
    "surveys_df = surveys_df.rename(columns={'species': 'species_id'})\n",
    "\n",
    "species_df = pd.read_csv(\"../data/species.csv\")"
   ]
  },
  {
   "cell_type": "markdown",
   "metadata": {},
   "source": [
    "## Clean up your data and open it using Python and Pandas"
   ]
  },
  {
   "cell_type": "code",
   "execution_count": null,
   "metadata": {
    "collapsed": false
   },
   "outputs": [],
   "source": [
    "# Common delimiters are ',' for comma, ' ' for space, and '\\t' for tab\n",
    "pd.read_csv?"
   ]
  },
  {
   "cell_type": "code",
   "execution_count": null,
   "metadata": {
    "collapsed": false
   },
   "outputs": [],
   "source": [
    "df = pd.DataFrame({'1stcolumn':[100,200], '2ndcolumn':[10,20]}) # this just creates a DataFrame for the example!\n",
    "print('With the old column names:\\n') # the \\n makes a new line, so it's easier to see\n",
    "print(df)"
   ]
  },
  {
   "cell_type": "code",
   "execution_count": null,
   "metadata": {
    "collapsed": false
   },
   "outputs": [],
   "source": [
    "df.columns = ['FirstColumn','SecondColumn'] # rename the columns!\n",
    "print('\\n\\nWith the new column names:\\n')\n",
    "print(df)"
   ]
  },
  {
   "cell_type": "markdown",
   "metadata": {
    "collapsed": false
   },
   "source": [
    "## Make a line plot of your data\n",
    "A great resource for help styling your figures is the matplotlib gallery (http://matplotlib.org/gallery.html), which includes plots in many different styles and the source code that creates them. The simplest of plots is the 2 dimensional line plot."
   ]
  },
  {
   "cell_type": "markdown",
   "metadata": {},
   "source": [
    "### Using pyplot"
   ]
  },
  {
   "cell_type": "code",
   "execution_count": null,
   "metadata": {
    "collapsed": false
   },
   "outputs": [],
   "source": [
    "import matplotlib.pyplot as plt\n",
    "%matplotlib inline"
   ]
  },
  {
   "cell_type": "code",
   "execution_count": null,
   "metadata": {
    "collapsed": false
   },
   "outputs": [],
   "source": [
    "list_numbers = [1.5, 4, 2.2, 5.7]\n",
    "plt.plot(list_numbers)\n",
    "plt.show()"
   ]
  },
  {
   "cell_type": "code",
   "execution_count": null,
   "metadata": {
    "collapsed": false
   },
   "outputs": [],
   "source": [
    "plt.plot([6.8, 4.3, 3.2, 8.1], list_numbers)\n",
    "plt.show()"
   ]
  },
  {
   "cell_type": "code",
   "execution_count": null,
   "metadata": {
    "collapsed": false,
    "scrolled": true
   },
   "outputs": [],
   "source": [
    "plt.plot([6.8, 4.3, 3.2, 8.1], list_numbers, 'ro-.')\n",
    "plt.axis([0,10,0,6])\n",
    "plt.show()"
   ]
  },
  {
   "cell_type": "code",
   "execution_count": null,
   "metadata": {
    "collapsed": false
   },
   "outputs": [],
   "source": [
    "import numpy as np\n",
    "\n",
    "# create a numpy array between 0 and 10, with values evenly spaced every 0.5\n",
    "t = np.arange(0., 10., 0.5)\n",
    "\n",
    "# red dashes with no symbols, blue squares with a solid line, and green triangles with a dotted line\n",
    "plt.plot(t, t, 'r--', t, t**2, 'bs-', t, t**3, 'g^:')\n",
    "\n",
    "plt.xlabel('This is the x axis')\n",
    "plt.ylabel('This is the y axis')\n",
    "plt.title('This is the figure title')\n",
    "\n",
    "plt.show()"
   ]
  },
  {
   "cell_type": "code",
   "execution_count": null,
   "metadata": {
    "collapsed": false
   },
   "outputs": [],
   "source": [
    "# red dashes with no symbols, blue squares with a solid line, and green triangles with a dotted line\n",
    "plt.plot(t, t, 'r--', label='linear')\n",
    "plt.plot(t, t**2, 'bs-', label='square')\n",
    "plt.plot(t, t**3, 'g^:', label='cubic')\n",
    "\n",
    "plt.legend(loc='upper left', shadow=True, fontsize='x-large')\n",
    "\n",
    "plt.xlabel('This is the x axis')\n",
    "plt.ylabel('This is the y axis')\n",
    "plt.title('This is the figure title')\n",
    "\n",
    "plt.show()"
   ]
  },
  {
   "cell_type": "code",
   "execution_count": null,
   "metadata": {
    "collapsed": false
   },
   "outputs": [],
   "source": [
    "# this is the first figure\n",
    "plt.figure(1)\n",
    "plt.plot(t, t, 'r--', label='linear')\n",
    "\n",
    "plt.legend(loc='upper left', shadow=True, fontsize='x-large')\n",
    "plt.title('This is figure 1')\n",
    "\n",
    "plt.show()\n",
    "\n",
    "# this is a second figure\n",
    "plt.figure(2)\n",
    "plt.plot(t, t**2, 'bs-', label='square')\n",
    "\n",
    "plt.legend(loc='upper left', shadow=True, fontsize='x-large')\n",
    "plt.title('This is figure 2')\n",
    "\n",
    "plt.show()"
   ]
  },
  {
   "cell_type": "code",
   "execution_count": null,
   "metadata": {
    "collapsed": false
   },
   "outputs": [],
   "source": [
    "plt.figure(1)\n",
    "\n",
    "plt.subplot(2,2,1) # two row, two columns, position 1\n",
    "plt.plot(t, t, 'r--', label='linear')\n",
    "\n",
    "plt.subplot(2,2,2) # two row, two columns, position 2\n",
    "plt.plot(t, t**2, 'bs-', label='square')\n",
    "\n",
    "plt.subplot(2,2,3) # two row, two columns, position 3\n",
    "plt.plot(t, t**3, 'g^:', label='cubic')\n",
    "\n",
    "plt.show()"
   ]
  },
  {
   "cell_type": "markdown",
   "metadata": {
    "collapsed": false
   },
   "source": [
    "## Make other types of plots\n",
    "http://matplotlib.org/users/screenshots.html"
   ]
  },
  {
   "cell_type": "markdown",
   "metadata": {
    "collapsed": true
   },
   "source": [
    "### Homework\n",
    "Use line plots to visualize the surveys data"
   ]
  },
  {
   "cell_type": "code",
   "execution_count": null,
   "metadata": {
    "collapsed": true
   },
   "outputs": [],
   "source": []
  }
 ],
 "metadata": {
  "anaconda-cloud": {},
  "kernelspec": {
   "display_name": "Python 3",
   "language": "python",
   "name": "python3"
  },
  "language_info": {
   "codemirror_mode": {
    "name": "ipython",
    "version": 3
   },
   "file_extension": ".py",
   "mimetype": "text/x-python",
   "name": "python",
   "nbconvert_exporter": "python",
   "pygments_lexer": "ipython3",
   "version": "3.6.0"
  }
 },
 "nbformat": 4,
 "nbformat_minor": 0
}
