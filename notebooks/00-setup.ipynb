{
 "cells": [
  {
   "cell_type": "markdown",
   "metadata": {},
   "source": [
    "# Data Analysis and Visualization in Python\n",
    "## Data Carpentry Lesson\n",
    "This part of the workshop is based on the Data Carpentry lesson *Python for ecologists*:\n",
    "\n",
    "http://www.datacarpentry.org/python-ecology-lesson/\n",
    "\n",
    "## Lesson Setup\n",
    "1. Download and extract the material: https://github.com/calculquebec/python-ecology-lesson/archive/uqam-20170222.zip\n",
    "```\n",
    "wget https://github.com/calculquebec/python-ecology-lesson/archive/uqam-20170222.zip\n",
    "unzip uqam-20170222.zip\n",
    "```\n",
    "1. Go to folder: **python-ecology-lesson-uqam-20170222**\n",
    "```\n",
    "cd python-ecology-lesson-uqam-20170222\n",
    "```\n",
    "1. Start the Jupyter Notebook\n",
    "```\n",
    "jupyter notebook\n",
    "```\n",
    "1. Once your web browser is showing the Jupyter portal, click on folder \"`notebooks`\",\n",
    "   then click on file \"`01-intro.ipynb`\""
   ]
  },
  {
   "cell_type": "code",
   "execution_count": null,
   "metadata": {
    "collapsed": true
   },
   "outputs": [],
   "source": []
  }
 ],
 "metadata": {
  "anaconda-cloud": {},
  "kernelspec": {
   "display_name": "Python 3",
   "language": "python",
   "name": "python3"
  },
  "language_info": {
   "codemirror_mode": {
    "name": "ipython",
    "version": 3
   },
   "file_extension": ".py",
   "mimetype": "text/x-python",
   "name": "python",
   "nbconvert_exporter": "python",
   "pygments_lexer": "ipython3",
   "version": "3.6.0"
  }
 },
 "nbformat": 4,
 "nbformat_minor": 0
}
