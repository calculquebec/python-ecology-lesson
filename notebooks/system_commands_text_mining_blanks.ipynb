{
 "cells": [
  {
   "cell_type": "markdown",
   "metadata": {},
   "source": [
    "# 1. System commands can help you combine R and Python (or any other language/program)"
   ]
  },
  {
   "cell_type": "code",
   "execution_count": null,
   "metadata": {
    "collapsed": false
   },
   "outputs": [],
   "source": [
    "# 1. System commands can help you combine R and Python (or any other language/program)\n",
    "#####################################################################################\n",
    "#?system()\n",
    "#windows\n",
    "#shell(command)\n",
    "#or\n",
    "#?system2()\n",
    "y<-\"helloworld\"\n",
    "name<-paste(\"python \", y, \".py\",sep=\"\") #helloworld.py has already been created\n",
    "system(name)"
   ]
  },
  {
   "cell_type": "code",
   "execution_count": null,
   "metadata": {
    "collapsed": false
   },
   "outputs": [],
   "source": []
  },
  {
   "cell_type": "markdown",
   "metadata": {},
   "source": [
    "# 2. Scraping pubmed or Google can be done directly with R or using Python commands\n"
   ]
  },
  {
   "cell_type": "markdown",
   "metadata": {},
   "source": [
    "## 2.1. Scraping pubmed with R"
   ]
  },
  {
   "cell_type": "code",
   "execution_count": null,
   "metadata": {
    "collapsed": true
   },
   "outputs": [],
   "source": [
    "library(RISmed)\n",
    "#https://www.ncbi.nlm.nih.gov/pubmed/?term=calcul+quebec\n",
    "?RISmed"
   ]
  },
  {
   "cell_type": "code",
   "execution_count": null,
   "metadata": {
    "collapsed": false
   },
   "outputs": [],
   "source": [
    "g=\"Calcul quebec\""
   ]
  },
  {
   "cell_type": "code",
   "execution_count": null,
   "metadata": {
    "collapsed": false
   },
   "outputs": [],
   "source": [
    "res <- EUtilsSummary(paste(g), db=\"pubmed\", datetype='pdat', mindate=2000, maxdate=2015, retmax=500)"
   ]
  },
  {
   "cell_type": "code",
   "execution_count": null,
   "metadata": {
    "collapsed": true
   },
   "outputs": [],
   "source": [
    "# Access data by calling EUtilsGet() (it's slow!!)\n",
    "# new object t that is a character vector containing all the publication titles by using the EUtilsGet() \n",
    "# function inside ArticleTitle()."
   ]
  },
  {
   "cell_type": "code",
   "execution_count": null,
   "metadata": {
    "collapsed": true
   },
   "outputs": [],
   "source": [
    "t<-ArticleTitle(EUtilsGet())"
   ]
  },
  {
   "cell_type": "code",
   "execution_count": null,
   "metadata": {
    "collapsed": false
   },
   "outputs": [],
   "source": []
  },
  {
   "cell_type": "code",
   "execution_count": null,
   "metadata": {
    "collapsed": false
   },
   "outputs": [],
   "source": []
  },
  {
   "cell_type": "code",
   "execution_count": null,
   "metadata": {
    "collapsed": false
   },
   "outputs": [],
   "source": []
  },
  {
   "cell_type": "code",
   "execution_count": null,
   "metadata": {
    "collapsed": false
   },
   "outputs": [],
   "source": [
    "y <- YearPubmed(EUtilsGet())"
   ]
  },
  {
   "cell_type": "code",
   "execution_count": null,
   "metadata": {
    "collapsed": false
   },
   "outputs": [],
   "source": [
    "r <- YearReceived(EUtilsGet())"
   ]
  },
  {
   "cell_type": "code",
   "execution_count": null,
   "metadata": {
    "collapsed": true
   },
   "outputs": [],
   "source": [
    "library(ggplot2)\n",
    "count<-as.data.frame(table())"
   ]
  },
  {
   "cell_type": "code",
   "execution_count": null,
   "metadata": {
    "collapsed": true
   },
   "outputs": [],
   "source": [
    "names(count)<-c(\"Year\", \"Counts\")"
   ]
  },
  {
   "cell_type": "code",
   "execution_count": null,
   "metadata": {
    "collapsed": false
   },
   "outputs": [],
   "source": [
    "ggplot(data=count, aes(x=Year, y=Counts))+geom_bar(stat=\"identity\")+ \n",
    "  labs(title=paste(\"PubMed articles containing '\", g,\"', n \", \"= \", sum(count$Counts), sep=\"\"))+\n",
    "  ylab(\"Number of papers\") +\n",
    "  xlab(paste(\"Year n Query date: \", Sys.time(), sep=\"\")) +\n",
    "  labs(colour=\"\") +\n",
    "  theme_bw()"
   ]
  },
  {
   "cell_type": "code",
   "execution_count": null,
   "metadata": {
    "collapsed": false
   },
   "outputs": [],
   "source": [
    "y #nb 21 was published before Calcul Quebec even existed"
   ]
  },
  {
   "cell_type": "code",
   "execution_count": null,
   "metadata": {
    "collapsed": false
   },
   "outputs": [],
   "source": []
  },
  {
   "cell_type": "markdown",
   "metadata": {},
   "source": [
    "## 2.2. Scraping Google Scholar with Python and R"
   ]
  },
  {
   "cell_type": "code",
   "execution_count": null,
   "metadata": {
    "collapsed": true
   },
   "outputs": [],
   "source": [
    "# with python\n",
    "#############\n",
    "## load libraries\n",
    "library(reshape2)\n",
    "library(plyr)"
   ]
  },
  {
   "cell_type": "markdown",
   "metadata": {},
   "source": [
    "## step 1: data extraction"
   ]
  },
  {
   "cell_type": "code",
   "execution_count": null,
   "metadata": {
    "collapsed": false
   },
   "outputs": [],
   "source": [
    "## load relevant databases\n",
    "pilist<-read.csv(\"../files/scholar_python/pi_list2.csv\", header = T)\n",
    "test=list();pilist"
   ]
  },
  {
   "cell_type": "code",
   "execution_count": null,
   "metadata": {
    "collapsed": true
   },
   "outputs": [],
   "source": [
    "## run scholar py script as system command\n",
    "scholar.it<-function(pi_list, start.year, end.year, n.authors){\n",
    "  for (y in start.year:end.year){\n",
    "    for (x in 121:126){\n",
    "      print(x)\n",
    "      for (z in 1:2){\n",
    "        if (z==1){\n",
    "          grab=\"all\"\n",
    "          piname=pi_list[x,1]\n",
    "          scholar=system('python', c('../files/scholar_python/scholar.py', args =paste('-a ', piname,' -t --',grab, ' calcul quebec',' --after ',2013,' --no-patents --no-citations --csv-header',sep=\"\")), stdout=TRUE)#change all or none according to your needs\n",
    "          if (length(scholar)==0){\n",
    "            print(paste(\"The PI named \", piname, \" published nothing related to CQ in \", y, \".\", sep=\"\"))\n",
    "            Sys.sleep(20)\n",
    "          }else{\n",
    "            schol.df=data.frame(scholar)\n",
    "            schol.df$author=piname\n",
    "            schol.df$author=as.character(schol.df$author)\n",
    "            schol.df$year=y\n",
    "            schol.df$year=as.character(schol.df$year)\n",
    "            schol.df$keywd=grab\n",
    "            schol.df$keywd=as.character(schol.df$keywd)\n",
    "            schol.df[1,2]=\"authors\"\n",
    "            schol.df[1,3]=\"year\"\n",
    "            schol.df[1,4]=\"keywd\"\n",
    "            write.csv(schol.df, paste(\"../files/scholar_python/scholar_output/\",y,\"_\",piname,\"_CQ.csv\", sep=\"\"))\n",
    "            Sys.sleep(20)\n",
    "          }\n",
    "        }else{\n",
    "          grab=\"none\"\n",
    "          piname=pi_list[x,1]\n",
    "          scholar=system('python', c('../files/scholar_python/scholar.py', args =paste('-a ', piname,' -t --', grab, ' calcul quebec',' --after ',2013,' --no-patents --no-citations --csv-header',sep=\"\")), stdout=TRUE)#change all or none according to your needs\n",
    "          if (length(scholar)==0){\n",
    "            print(paste(\"The PI named \", piname, \" didn't publish in \", y, \".\", sep=\"\"))\n",
    "            Sys.sleep(60)\n",
    "          }else{\n",
    "            schol.df=data.frame(scholar)\n",
    "            schol.df$author=piname\n",
    "            schol.df$author=as.character(schol.df$author)\n",
    "            schol.df$year=y\n",
    "            schol.df$year=as.character(schol.df$year)\n",
    "            schol.df$keywd=grab\n",
    "            schol.df$keywd=as.character(schol.df$keywd)\n",
    "            schol.df[1,2]=\"authors\"\n",
    "            schol.df[1,3]=\"year\"\n",
    "            schol.df[1,4]=\"keywd\"\n",
    "            write.csv(schol.df, paste(\"../files/scholar_python/scholar_output/\",y,\"_\",piname,\"_noCQ.csv\", sep=\"\"))\n",
    "            Sys.sleep(60)\n",
    "          }\n",
    "        }\n",
    "      }\n",
    "    }\n",
    "  }\n",
    "}"
   ]
  },
  {
   "cell_type": "code",
   "execution_count": null,
   "metadata": {
    "collapsed": false
   },
   "outputs": [],
   "source": [
    "scholar.it(pi_list = pilist,start.year = 2014,end.year = 2014,n.authors = nrow(pilist))"
   ]
  },
  {
   "cell_type": "markdown",
   "metadata": {},
   "source": [
    "## step 2: data analysis"
   ]
  },
  {
   "cell_type": "code",
   "execution_count": null,
   "metadata": {
    "collapsed": true
   },
   "outputs": [],
   "source": [
    "## merge all csv files into one data frame\n",
    "multmerge = function(mypath){\n",
    "  filenames=list.files(path=mypath, full.names=TRUE)\n",
    "  datalist = lapply(filenames, function(x){read.csv(file=x,header=T, skip=1)})\n",
    "  Reduce(function(...) rbind(...), datalist)}"
   ]
  },
  {
   "cell_type": "code",
   "execution_count": null,
   "metadata": {
    "collapsed": true
   },
   "outputs": [],
   "source": [
    "schol.merge<-multmerge(\"../files/scholar_python/scholar_output\")"
   ]
  },
  {
   "cell_type": "code",
   "execution_count": null,
   "metadata": {
    "collapsed": false
   },
   "outputs": [],
   "source": []
  },
  {
   "cell_type": "code",
   "execution_count": null,
   "metadata": {
    "collapsed": false
   },
   "outputs": [],
   "source": [
    "## split the \"Scholar Column into multiple relevant columns using the separator\n",
    "list <- strsplit(as.character(schol.merge$title.url.year.num_citations.num_versions.cluster_id.url_pdf.url_citations.url_versions.url_citation.excerpt), \"\\\\|\")"
   ]
  },
  {
   "cell_type": "code",
   "execution_count": null,
   "metadata": {
    "collapsed": true
   },
   "outputs": [],
   "source": [
    "library(\"plyr\")\n"
   ]
  },
  {
   "cell_type": "code",
   "execution_count": null,
   "metadata": {
    "collapsed": false
   },
   "outputs": [],
   "source": [
    "df <- ldply()\n"
   ]
  },
  {
   "cell_type": "code",
   "execution_count": null,
   "metadata": {
    "collapsed": false
   },
   "outputs": [],
   "source": [
    "colnames(df)<-c(unlist(strsplit(\"title.url.year.num_citations.num_versions.cluster_id.url_pdf.url_citations.url_versions.url_citation.excerpt\",\"\\\\.\")))"
   ]
  },
  {
   "cell_type": "code",
   "execution_count": null,
   "metadata": {
    "collapsed": false
   },
   "outputs": [],
   "source": [
    "schol.res<-cbind(schol.merge[,3:5], df)"
   ]
  },
  {
   "cell_type": "code",
   "execution_count": null,
   "metadata": {
    "collapsed": false
   },
   "outputs": [],
   "source": []
  },
  {
   "cell_type": "code",
   "execution_count": null,
   "metadata": {
    "collapsed": false
   },
   "outputs": [],
   "source": []
  },
  {
   "cell_type": "code",
   "execution_count": null,
   "metadata": {
    "collapsed": true
   },
   "outputs": [],
   "source": [
    "schol.res$num_citations<-as.numeric()"
   ]
  },
  {
   "cell_type": "code",
   "execution_count": null,
   "metadata": {
    "collapsed": false
   },
   "outputs": [],
   "source": [
    "## compare citations between papers that do/don't mention CQ for the same authors\n",
    "schol.citsum<-aggregate(data=schol.res, num_citations~authors+keywd, mean)"
   ]
  },
  {
   "cell_type": "code",
   "execution_count": null,
   "metadata": {
    "collapsed": false
   },
   "outputs": [],
   "source": []
  },
  {
   "cell_type": "code",
   "execution_count": null,
   "metadata": {
    "collapsed": false,
    "scrolled": true
   },
   "outputs": [],
   "source": [
    "plot(y=schol.citsum$num_citations, x=schol.citsum$keywd)"
   ]
  },
  {
   "cell_type": "markdown",
   "metadata": {},
   "source": [
    "# 3. Once you have retrieved the data you need, or if you already have files saved locally, you can do some text mining."
   ]
  },
  {
   "cell_type": "code",
   "execution_count": null,
   "metadata": {
    "collapsed": true
   },
   "outputs": [],
   "source": [
    "# 3.1. General text mining\n",
    "Needed <- c(\"tm\",\"RColorBrewer\", \"ggplot2\", \"wordcloud\", \"biclust\", \"cluster\", \"igraph\", \"fpc\", \"tm\", \"pdftools\") "
   ]
  },
  {
   "cell_type": "code",
   "execution_count": null,
   "metadata": {
    "collapsed": false
   },
   "outputs": [],
   "source": [
    "lapply(, library, character.only=TRUE)"
   ]
  },
  {
   "cell_type": "code",
   "execution_count": null,
   "metadata": {
    "collapsed": false
   },
   "outputs": [],
   "source": [
    " setwd(\"../data/scraping_text_mining/pdf/\")"
   ]
  },
  {
   "cell_type": "code",
   "execution_count": null,
   "metadata": {
    "collapsed": true
   },
   "outputs": [],
   "source": [
    "files <- list.files(pattern = \"\")"
   ]
  },
  {
   "cell_type": "code",
   "execution_count": null,
   "metadata": {
    "collapsed": false
   },
   "outputs": [],
   "source": [
    "filetext <- lapply(files, pdf_text)"
   ]
  },
  {
   "cell_type": "code",
   "execution_count": null,
   "metadata": {
    "collapsed": true
   },
   "outputs": [],
   "source": [
    "filetext <- lapply(filetext, function(x)gsub(\"(\\u201c|\\u201d|\\u2014)\",\"\",x))"
   ]
  },
  {
   "cell_type": "code",
   "execution_count": null,
   "metadata": {
    "collapsed": true
   },
   "outputs": [],
   "source": [
    "corp <- Corpus(VectorSource(filetext))"
   ]
  },
  {
   "cell_type": "code",
   "execution_count": null,
   "metadata": {
    "collapsed": false
   },
   "outputs": [],
   "source": [
    "filetext.tdm2 <- TermDocumentMatrix(corp)"
   ]
  },
  {
   "cell_type": "code",
   "execution_count": null,
   "metadata": {
    "collapsed": false
   },
   "outputs": [],
   "source": [
    "inspect([1:10,])"
   ]
  },
  {
   "cell_type": "code",
   "execution_count": null,
   "metadata": {
    "collapsed": true
   },
   "outputs": [],
   "source": [
    "meta(corp[[1]], tag = \"id\") <- files[1]"
   ]
  },
  {
   "cell_type": "code",
   "execution_count": null,
   "metadata": {
    "collapsed": true
   },
   "outputs": [],
   "source": [
    "for(i in seq(length(corp))){\n",
    "  meta(corp[[i]], tag = \"id\")<- files[i]\n",
    "}"
   ]
  },
  {
   "cell_type": "code",
   "execution_count": null,
   "metadata": {
    "collapsed": true
   },
   "outputs": [],
   "source": [
    "docs <- tm_map(corp, PlainTextDocument)  "
   ]
  },
  {
   "cell_type": "code",
   "execution_count": null,
   "metadata": {
    "collapsed": true
   },
   "outputs": [],
   "source": [
    "docs <- tm_map(docs, removePunctuation)  \n",
    "docs <- tm_map(docs, removeNumbers)    \n",
    "docs <- tm_map(docs, tolower)   \n",
    "docs <- tm_map(docs, removeWords, stopwords(\"english\"))"
   ]
  },
  {
   "cell_type": "code",
   "execution_count": null,
   "metadata": {
    "collapsed": true
   },
   "outputs": [],
   "source": [
    "docs <- tm_map(docs, stemDocument) \n",
    "docs <- tm_map(docs, stripWhitespace) \n",
    "docs <- tm_map(docs, PlainTextDocument)    "
   ]
  },
  {
   "cell_type": "code",
   "execution_count": null,
   "metadata": {
    "collapsed": false
   },
   "outputs": [],
   "source": []
  },
  {
   "cell_type": "code",
   "execution_count": null,
   "metadata": {
    "collapsed": true
   },
   "outputs": [],
   "source": [
    "docs <- tm_map(docs, PlainTextDocument) \n"
   ]
  },
  {
   "cell_type": "code",
   "execution_count": null,
   "metadata": {
    "collapsed": false
   },
   "outputs": [],
   "source": [
    "dtm <- DocumentTermMatrix(docs)   "
   ]
  },
  {
   "cell_type": "code",
   "execution_count": null,
   "metadata": {
    "collapsed": false
   },
   "outputs": [],
   "source": []
  },
  {
   "cell_type": "code",
   "execution_count": null,
   "metadata": {
    "collapsed": false
   },
   "outputs": [],
   "source": [
    "tdm <- TermDocumentMatrix(docs)    "
   ]
  },
  {
   "cell_type": "code",
   "execution_count": null,
   "metadata": {
    "collapsed": false
   },
   "outputs": [],
   "source": [
    "freq <- colSums(as.matrix(dtm))   "
   ]
  },
  {
   "cell_type": "code",
   "execution_count": null,
   "metadata": {
    "collapsed": true
   },
   "outputs": [],
   "source": [
    "ord <- order(freq) "
   ]
  },
  {
   "cell_type": "code",
   "execution_count": null,
   "metadata": {
    "collapsed": false
   },
   "outputs": [],
   "source": [
    "dtms <- removeSparseTerms(dtm, 0.1)   "
   ]
  },
  {
   "cell_type": "code",
   "execution_count": null,
   "metadata": {
    "collapsed": false
   },
   "outputs": [],
   "source": []
  },
  {
   "cell_type": "code",
   "execution_count": null,
   "metadata": {
    "collapsed": false
   },
   "outputs": [],
   "source": []
  },
  {
   "cell_type": "code",
   "execution_count": null,
   "metadata": {
    "collapsed": false
   },
   "outputs": [],
   "source": []
  },
  {
   "cell_type": "code",
   "execution_count": null,
   "metadata": {
    "collapsed": false
   },
   "outputs": [],
   "source": []
  },
  {
   "cell_type": "code",
   "execution_count": null,
   "metadata": {
    "collapsed": false
   },
   "outputs": [],
   "source": [
    "freq <- colSums(as.matrix(dtms))   \n"
   ]
  },
  {
   "cell_type": "code",
   "execution_count": null,
   "metadata": {
    "collapsed": false
   },
   "outputs": [],
   "source": [
    "freq <- sort(colSums(as.matrix(dtm)), decreasing=TRUE)   "
   ]
  },
  {
   "cell_type": "code",
   "execution_count": null,
   "metadata": {
    "collapsed": false
   },
   "outputs": [],
   "source": [
    "findFreqTerms(dtm, lowfreq=) "
   ]
  },
  {
   "cell_type": "code",
   "execution_count": null,
   "metadata": {
    "collapsed": false
   },
   "outputs": [],
   "source": [
    "wf <- data.frame(word=names(freq), freq=freq)   \n",
    "head(wf) "
   ]
  },
  {
   "cell_type": "code",
   "execution_count": null,
   "metadata": {
    "collapsed": false
   },
   "outputs": [],
   "source": [
    "p <- ggplot(subset(wf, freq>50), aes(word, freq))    \n",
    "p <- p + geom_bar(stat=\"identity\")   \n",
    "p <- p + theme(axis.text.x=element_text(angle=45, hjust=1))   \n",
    "p  "
   ]
  },
  {
   "cell_type": "code",
   "execution_count": null,
   "metadata": {
    "collapsed": false
   },
   "outputs": [],
   "source": [
    "findAssocs(dtm, c(\"question\" , \"analysi\"), corlimit=0.98) "
   ]
  },
  {
   "cell_type": "code",
   "execution_count": null,
   "metadata": {
    "collapsed": false
   },
   "outputs": [],
   "source": [
    "findAssocs(dtms, \"contrast\", corlimit=0.90)"
   ]
  },
  {
   "cell_type": "code",
   "execution_count": null,
   "metadata": {
    "collapsed": true
   },
   "outputs": [],
   "source": [
    "library(wordcloud)   "
   ]
  },
  {
   "cell_type": "code",
   "execution_count": null,
   "metadata": {
    "collapsed": false
   },
   "outputs": [],
   "source": [
    "set.seed(142)   \n",
    "wordcloud(names(freq), freq, min.freq=)"
   ]
  },
  {
   "cell_type": "code",
   "execution_count": null,
   "metadata": {
    "collapsed": false
   },
   "outputs": [],
   "source": []
  },
  {
   "cell_type": "code",
   "execution_count": null,
   "metadata": {
    "collapsed": true
   },
   "outputs": [],
   "source": []
  },
  {
   "cell_type": "code",
   "execution_count": null,
   "metadata": {
    "collapsed": false
   },
   "outputs": [],
   "source": []
  },
  {
   "cell_type": "code",
   "execution_count": null,
   "metadata": {
    "collapsed": false
   },
   "outputs": [],
   "source": [
    "dtmss <- removeSparseTerms(dtm, 0.15)  \n"
   ]
  },
  {
   "cell_type": "code",
   "execution_count": null,
   "metadata": {
    "collapsed": true
   },
   "outputs": [],
   "source": [
    "library(cluster) "
   ]
  },
  {
   "cell_type": "code",
   "execution_count": null,
   "metadata": {
    "collapsed": true
   },
   "outputs": [],
   "source": [
    "d <- dist(t(dtmss), method=\"euclidian\")   "
   ]
  },
  {
   "cell_type": "code",
   "execution_count": null,
   "metadata": {
    "collapsed": false
   },
   "outputs": [],
   "source": [
    "fit <- hclust(d=d, method=\"ward\") "
   ]
  },
  {
   "cell_type": "code",
   "execution_count": null,
   "metadata": {
    "collapsed": false
   },
   "outputs": [],
   "source": [
    "plot(fit, hang=-1)  "
   ]
  },
  {
   "cell_type": "code",
   "execution_count": null,
   "metadata": {
    "collapsed": false
   },
   "outputs": [],
   "source": [
    "plot.new()\n",
    "plot(fit, hang=-1)"
   ]
  },
  {
   "cell_type": "code",
   "execution_count": null,
   "metadata": {
    "collapsed": false
   },
   "outputs": [],
   "source": [
    "rect.hclust(fit, k=5, border=\"red\")"
   ]
  },
  {
   "cell_type": "code",
   "execution_count": null,
   "metadata": {
    "collapsed": true
   },
   "outputs": [],
   "source": []
  },
  {
   "cell_type": "code",
   "execution_count": null,
   "metadata": {
    "collapsed": true
   },
   "outputs": [],
   "source": [
    " "
   ]
  },
  {
   "cell_type": "code",
   "execution_count": null,
   "metadata": {
    "collapsed": true
   },
   "outputs": [],
   "source": []
  },
  {
   "cell_type": "code",
   "execution_count": null,
   "metadata": {
    "collapsed": false
   },
   "outputs": [],
   "source": [
    "\n"
   ]
  },
  {
   "cell_type": "code",
   "execution_count": null,
   "metadata": {
    "collapsed": true
   },
   "outputs": [],
   "source": []
  },
  {
   "cell_type": "code",
   "execution_count": null,
   "metadata": {
    "collapsed": true
   },
   "outputs": [],
   "source": []
  },
  {
   "cell_type": "code",
   "execution_count": null,
   "metadata": {
    "collapsed": true
   },
   "outputs": [],
   "source": []
  },
  {
   "cell_type": "code",
   "execution_count": null,
   "metadata": {
    "collapsed": true
   },
   "outputs": [],
   "source": []
  }
 ],
 "metadata": {
  "anaconda-cloud": {},
  "kernelspec": {
   "display_name": "R",
   "language": "R",
   "name": "ir"
  },
  "language_info": {
   "codemirror_mode": "r",
   "file_extension": ".r",
   "mimetype": "text/x-r-source",
   "name": "R",
   "pygments_lexer": "r",
   "version": "3.3.2"
  }
 },
 "nbformat": 4,
 "nbformat_minor": 1
}
