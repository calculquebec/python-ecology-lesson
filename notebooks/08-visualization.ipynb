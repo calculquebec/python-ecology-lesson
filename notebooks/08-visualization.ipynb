{
 "cells": [
  {
   "cell_type": "markdown",
   "metadata": {},
   "source": [
    "# Data Analysis and Visualization in Python\n",
    "## Data Ingest and Visualization - Matplotlib and Pandas\n",
    "Questions\n",
    "* What other tools can I use to create plots apart from ggplot?\n",
    "* Why should I use Python to create plots?\n",
    "\n",
    "Objectives\n",
    "* Import the pyplot toolbox to create figures in Python.\n",
    "* Use matplotlib to make adjustments to Pandas or plotnine objects."
   ]
  },
  {
   "cell_type": "markdown",
   "metadata": {},
   "source": [
    "## Loading our Data"
   ]
  },
  {
   "cell_type": "code",
   "execution_count": null,
   "metadata": {},
   "outputs": [],
   "source": [
    "import pandas as pd\n",
    "\n",
    "surveys_df = pd.read_csv('../data/surveys.csv')"
   ]
  },
  {
   "cell_type": "markdown",
   "metadata": {},
   "source": [
    "## Matplotlib package\n",
    "A great resource for help styling your figures is the matplotlib gallery (http://matplotlib.org/gallery.html), which includes plots in many different styles and the source code that creates them. The simplest of plots is the 2 dimensional line plot."
   ]
  },
  {
   "cell_type": "markdown",
   "metadata": {},
   "source": [
    "### Using the `pyplot` toolbox"
   ]
  },
  {
   "cell_type": "code",
   "execution_count": null,
   "metadata": {},
   "outputs": [],
   "source": [
    "import matplotlib.pyplot as ###\n",
    "%matplotlib inline"
   ]
  },
  {
   "cell_type": "markdown",
   "metadata": {},
   "source": [
    "### `plt` pyplot versus object-based matplotlib"
   ]
  },
  {
   "cell_type": "code",
   "execution_count": null,
   "metadata": {},
   "outputs": [],
   "source": [
    "import ### as ###\n",
    "sample_data = np.random.###(0, 0.1, ###)\n",
    "sample_data[:5]"
   ]
  },
  {
   "cell_type": "code",
   "execution_count": null,
   "metadata": {},
   "outputs": [],
   "source": [
    "plt.###(sample_data)\n",
    "plt.show() # not necessary, but looks better in Jupyter Notebooks"
   ]
  },
  {
   "cell_type": "code",
   "execution_count": null,
   "metadata": {},
   "outputs": [],
   "source": [
    "fig, ax = plt.###()  # initiate an empty figure and axis matplotlib object\n",
    "###(sample_data, 30)\n",
    "plt.show() # not necessary, but looks better in Jupyter Notebooks"
   ]
  },
  {
   "cell_type": "code",
   "execution_count": null,
   "metadata": {},
   "outputs": [],
   "source": [
    "fig, ax### = plt.subplots() # prepare a matplotlib figure\n",
    "ax1.hist(sample_data, 30)\n",
    "\n",
    "# Set labels\n",
    "ax1.set_###('density')\n",
    "ax1.set_###('value')\n",
    "\n",
    "# Add a plot of a Beta distribution\n",
    "#a = 5\n",
    "#b = 10\n",
    "#beta_draws = np.random.beta(a, b)\n",
    "\n",
    "# Add additional axes to the figure\n",
    "#ax2 = fig.add_axes([0.125, 0.575, 0.3, 0.3]) # [left, bottom, right, top]\n",
    "#ax2.hist(beta_draws)\n",
    "\n",
    "plt.show() # not necessary, but looks better in Jupyter Notebooks"
   ]
  },
  {
   "cell_type": "markdown",
   "metadata": {},
   "source": [
    "### Link matplotlib, Pandas and plotnine"
   ]
  },
  {
   "cell_type": "code",
   "execution_count": null,
   "metadata": {},
   "outputs": [],
   "source": [
    "import ### as ###\n",
    "import warnings\n",
    "warnings.simplefilter(action='ignore', category=FutureWarning)\n",
    "warnings.simplefilter(action='ignore', category=UserWarning)"
   ]
  },
  {
   "cell_type": "code",
   "execution_count": null,
   "metadata": {},
   "outputs": [],
   "source": [
    "my_plot = surveys_df.###(\"hindfoot_length\", \"weight\", kind=\"###\")\n",
    "###.show() # not necessary, but looks better in Jupyter Notebooks"
   ]
  },
  {
   "cell_type": "code",
   "execution_count": null,
   "metadata": {},
   "outputs": [],
   "source": [
    "fig, ax1 = plt.###() # prepare a matplotlib figure\n",
    "\n",
    "surveys_df.plot(\"hindfoot_length\", \"weight\", kind=\"scatter\", ###)\n",
    "\n",
    "# Provide further adaptations with matplotlib:\n",
    "ax1.set_###(\"Hindfoot length\")\n",
    "ax1.###_params(labelsize=16, pad=8)\n",
    "fig.###('Scatter plot of weight versus hindfoot length', fontsize=15)\n",
    "\n",
    "plt.show() # not necessary, but looks better in Jupyter Notebooks"
   ]
  },
  {
   "cell_type": "markdown",
   "metadata": {},
   "source": [
    "To retrieve the matplotlib figure object from plotnine for customization, use the `draw()` function in plotnine:"
   ]
  },
  {
   "cell_type": "code",
   "execution_count": null,
   "metadata": {},
   "outputs": [],
   "source": [
    "myplot = (p9.ggplot(data=surveys_df,\n",
    "                    mapping=p9.aes(x='hindfoot_length', y='weight'))\n",
    "          + p9.geom_###())\n",
    "\n",
    "# Convert output plotnine to a matplotlib object\n",
    "my_plt_version = myplot.###()\n",
    "p9_ax = my_plt_version.### # each subplot is an item in a list\n",
    "\n",
    "# Provide further adaptations with matplotlib:\n",
    "p9_ax.set_xlabel(\"Hindfoot length\")\n",
    "p9_ax.tick_params(labelsize=16, pad=8)\n",
    "p9_ax.set_title('Scatter plot of weight versus hindfoot length', fontsize=15)\n",
    "\n",
    "plt.show() # not necessary in Jupyter Notebooks"
   ]
  },
  {
   "cell_type": "markdown",
   "metadata": {},
   "source": [
    "### Saving matplotlib figures"
   ]
  },
  {
   "cell_type": "code",
   "execution_count": null,
   "metadata": {},
   "outputs": [],
   "source": [
    "fig.###(\"my_plot_name.png\")"
   ]
  },
  {
   "cell_type": "markdown",
   "metadata": {},
   "source": [
    "### Exercise - Saving figures\n",
    "Save in `pdf` format in 300 dpi"
   ]
  },
  {
   "cell_type": "code",
   "execution_count": null,
   "metadata": {},
   "outputs": [],
   "source": [
    "fig.savefig(\"my_plot_name.###\", ###)"
   ]
  },
  {
   "cell_type": "markdown",
   "metadata": {},
   "source": [
    "## Make other types of plots\n",
    "http://matplotlib.org/users/screenshots.html"
   ]
  },
  {
   "cell_type": "markdown",
   "metadata": {
    "collapsed": true
   },
   "source": [
    "### Homework\n",
    "Use line plots to visualize the surveys data"
   ]
  },
  {
   "cell_type": "code",
   "execution_count": null,
   "metadata": {},
   "outputs": [],
   "source": []
  }
 ],
 "metadata": {
  "anaconda-cloud": {},
  "kernelspec": {
   "display_name": "Python 3",
   "language": "python",
   "name": "python3"
  },
  "language_info": {
   "codemirror_mode": {
    "name": "ipython",
    "version": 3
   },
   "file_extension": ".py",
   "mimetype": "text/x-python",
   "name": "python",
   "nbconvert_exporter": "python",
   "pygments_lexer": "ipython3",
   "version": "3.6.5"
  }
 },
 "nbformat": 4,
 "nbformat_minor": 1
}
