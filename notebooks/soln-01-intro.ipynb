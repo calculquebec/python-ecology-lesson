{
 "cells": [
  {
   "cell_type": "markdown",
   "metadata": {},
   "source": [
    "# Data Analysis and Visualization in Python\n",
    "## Short Introduction to Programming in Python\n",
    "Questions\n",
    "* What is Python?\n",
    "* Why should I learn Python?\n",
    "\n",
    "Objectives\n",
    "* Describe the advantages of using programming vs. completing repetitive tasks by hand.\n",
    "* Define the following data types in Python: strings, integers, and floats.\n",
    "* Perform mathematical operations in Python using basic operators.\n",
    "* Define the following as it relates to Python: lists, tuples, and dictionaries."
   ]
  },
  {
   "cell_type": "markdown",
   "metadata": {
    "collapsed": true
   },
   "source": [
    "### How to Use Jupyter\n",
    "When a cell is in edit mode:\n",
    "\n",
    "  Shortcut  | Description\n",
    "----------- | -----------\n",
    "Shift+Enter | Run the cell, and go to the next\n",
    "Tab         | Indent code or auto-completion\n",
    "Esc         | Go to command mode\n",
    "\n",
    "When a cell is in command mode:\n",
    "\n",
    "  Shortcut   | Description\n",
    "------------ | -----------\n",
    "Shift+Enter  | Run the cell, and go to the next\n",
    "Double-click | Go to edit mode\n",
    "Enter        | Go to edit mode\n",
    "\n",
    "  Shortcut   | Description\n",
    "------------ | -----------\n",
    "A            | Insert a cell above\n",
    "B            | Insert a cell below\n",
    "C            | Copy the current cell\n",
    "V            | Paste the cell below\n",
    "D D          | Delete the current cell\n",
    "M            | Change to Markdown cell\n",
    "Y            | Change to Code cell\n",
    "\n",
    "To reset all cells:\n",
    "* Go to the top menu, and select Kernel -> Restart & Clear Output"
   ]
  },
  {
   "cell_type": "markdown",
   "metadata": {},
   "source": [
    "## The Basics of Python\n",
    "Python is a general purpose programming language that supports rapid development of scripts and applications.\n",
    "\n",
    "Python’s main advantages:\n",
    "\n",
    "* Open Source software, supported by Python Software Foundation\n",
    "* Available on all major platforms (macOS, Linux, Windows)\n",
    "* Supports multiple programming paradigms\n",
    "* Very large community\n",
    "* Rich ecosystem of third-party packages"
   ]
  },
  {
   "cell_type": "markdown",
   "metadata": {
    "collapsed": true
   },
   "source": [
    "## Interpreter\n",
    "Python is an interpreted language. As a consequence, we can use it in two ways:\n",
    "\n",
    "* Using interpreter as an “advanced calculator” in interactive mode:\n",
    "```\n",
    "$ python\n",
    ">>> 2 + 2\n",
    "4\n",
    ">>> print(\"Hello World\")\n",
    "Hello World\n",
    "```\n",
    "\n",
    "* Executing programs/scripts saved as a text file, usually with `*.py` extension:\n",
    "```\n",
    "$ python my_script.py\n",
    "Hello World\n",
    "```\n",
    "\n",
    "For today, we will use the Jupyter/Notebook interface that runs IPython, which is a Python interpreter with additional built-in commands."
   ]
  },
  {
   "cell_type": "markdown",
   "metadata": {},
   "source": [
    "## Introduction to Python built-in data types"
   ]
  },
  {
   "cell_type": "markdown",
   "metadata": {},
   "source": [
    "### Variables, strings, integers and floats"
   ]
  },
  {
   "cell_type": "code",
   "execution_count": null,
   "metadata": {},
   "outputs": [],
   "source": [
    "text = \"Data Carpentry\"\n",
    "number = 42\n",
    "pi_value = 3.1415"
   ]
  },
  {
   "cell_type": "code",
   "execution_count": null,
   "metadata": {},
   "outputs": [],
   "source": [
    "text"
   ]
  },
  {
   "cell_type": "code",
   "execution_count": null,
   "metadata": {},
   "outputs": [],
   "source": [
    "type(text)"
   ]
  },
  {
   "cell_type": "code",
   "execution_count": null,
   "metadata": {},
   "outputs": [],
   "source": [
    "type(number)"
   ]
  },
  {
   "cell_type": "code",
   "execution_count": null,
   "metadata": {},
   "outputs": [],
   "source": [
    "type(pi_value)"
   ]
  },
  {
   "cell_type": "code",
   "execution_count": null,
   "metadata": {},
   "outputs": [],
   "source": [
    "# Comments start with #\n",
    "# Next line will print out text\n",
    "print(text)\n",
    "print(number)"
   ]
  },
  {
   "cell_type": "markdown",
   "metadata": {},
   "source": [
    "### Operators"
   ]
  },
  {
   "cell_type": "code",
   "execution_count": null,
   "metadata": {},
   "outputs": [],
   "source": [
    "2 + 2"
   ]
  },
  {
   "cell_type": "code",
   "execution_count": null,
   "metadata": {},
   "outputs": [],
   "source": [
    "6 * 7"
   ]
  },
  {
   "cell_type": "code",
   "execution_count": null,
   "metadata": {},
   "outputs": [],
   "source": [
    "2 ** 16  # power"
   ]
  },
  {
   "cell_type": "code",
   "execution_count": null,
   "metadata": {},
   "outputs": [],
   "source": [
    "22 / 5  # Division in floating point"
   ]
  },
  {
   "cell_type": "code",
   "execution_count": null,
   "metadata": {},
   "outputs": [],
   "source": [
    "22 // 5 # Integer division"
   ]
  },
  {
   "cell_type": "code",
   "execution_count": null,
   "metadata": {},
   "outputs": [],
   "source": [
    "13 % 5  # modulo"
   ]
  },
  {
   "cell_type": "code",
   "execution_count": null,
   "metadata": {},
   "outputs": [],
   "source": [
    "3 > 4"
   ]
  },
  {
   "cell_type": "code",
   "execution_count": null,
   "metadata": {},
   "outputs": [],
   "source": [
    "True and True"
   ]
  },
  {
   "cell_type": "code",
   "execution_count": null,
   "metadata": {},
   "outputs": [],
   "source": [
    "True and False"
   ]
  },
  {
   "cell_type": "code",
   "execution_count": null,
   "metadata": {},
   "outputs": [],
   "source": [
    "True or False"
   ]
  },
  {
   "cell_type": "markdown",
   "metadata": {},
   "source": [
    "## Sequential types: Lists and Tuples\n",
    "### Lists"
   ]
  },
  {
   "cell_type": "code",
   "execution_count": null,
   "metadata": {},
   "outputs": [],
   "source": [
    "numbers = [1,2,3]\n",
    "numbers[0]"
   ]
  },
  {
   "cell_type": "code",
   "execution_count": null,
   "metadata": {},
   "outputs": [],
   "source": [
    "for num in numbers:\n",
    "    # Indentation is very important in Python\n",
    "    print(num)"
   ]
  },
  {
   "cell_type": "code",
   "execution_count": null,
   "metadata": {},
   "outputs": [],
   "source": [
    "numbers.append(4)\n",
    "print(numbers)"
   ]
  },
  {
   "cell_type": "code",
   "execution_count": null,
   "metadata": {},
   "outputs": [],
   "source": [
    "len(numbers)"
   ]
  },
  {
   "cell_type": "markdown",
   "metadata": {},
   "source": [
    "### Tuples"
   ]
  },
  {
   "cell_type": "code",
   "execution_count": null,
   "metadata": {},
   "outputs": [],
   "source": [
    "# tuples use parentheses\n",
    "a_tuple = (1,2,3)\n",
    "another_tuple = ('blue','green','red')\n",
    "a_tuple"
   ]
  },
  {
   "cell_type": "code",
   "execution_count": null,
   "metadata": {},
   "outputs": [],
   "source": [
    "# Note: lists use square brackets\n",
    "a_list = [1,2,3]\n",
    "a_list"
   ]
  },
  {
   "cell_type": "markdown",
   "metadata": {},
   "source": [
    "### Exercises - Lists and Tuples\n",
    "What happens when you type `a_tuple[2]=5` vs `a_list[1]=5` ?"
   ]
  },
  {
   "cell_type": "code",
   "execution_count": null,
   "metadata": {},
   "outputs": [],
   "source": [
    "a_tuple[2] = 5\n",
    "a_tuple"
   ]
  },
  {
   "cell_type": "code",
   "execution_count": null,
   "metadata": {},
   "outputs": [],
   "source": [
    "a_list[1] = 5\n",
    "a_list"
   ]
  },
  {
   "cell_type": "markdown",
   "metadata": {},
   "source": [
    "What is the object type of `a_tuple`?"
   ]
  },
  {
   "cell_type": "code",
   "execution_count": null,
   "metadata": {},
   "outputs": [],
   "source": [
    "type(a_tuple)"
   ]
  },
  {
   "cell_type": "markdown",
   "metadata": {},
   "source": [
    "## Dictionaries"
   ]
  },
  {
   "cell_type": "code",
   "execution_count": null,
   "metadata": {},
   "outputs": [],
   "source": [
    "translation = {\"one\" : 1, \"two\" : 2}\n",
    "translation[\"one\"]"
   ]
  },
  {
   "cell_type": "code",
   "execution_count": null,
   "metadata": {},
   "outputs": [],
   "source": [
    "rev = {1 : \"one\", 2 : \"two\"}\n",
    "rev[1]"
   ]
  },
  {
   "cell_type": "code",
   "execution_count": null,
   "metadata": {},
   "outputs": [],
   "source": [
    "rev[3] = \"three\"\n",
    "rev"
   ]
  },
  {
   "cell_type": "code",
   "execution_count": null,
   "metadata": {
    "scrolled": true
   },
   "outputs": [],
   "source": [
    "for key, value in rev.items():\n",
    "    print(key, \"->\", value)"
   ]
  },
  {
   "cell_type": "code",
   "execution_count": null,
   "metadata": {},
   "outputs": [],
   "source": [
    "rev.keys()"
   ]
  },
  {
   "cell_type": "markdown",
   "metadata": {},
   "source": [
    "### Exercise - Dictionaries\n",
    "Try to reassign the second value of `rev` so that it no longer reads “two” but instead reads “apple-sauce”."
   ]
  },
  {
   "cell_type": "code",
   "execution_count": null,
   "metadata": {},
   "outputs": [],
   "source": [
    "rev[2] = \"apple-sauce\"\n",
    "rev"
   ]
  },
  {
   "cell_type": "markdown",
   "metadata": {},
   "source": [
    "## Functions"
   ]
  },
  {
   "cell_type": "code",
   "execution_count": null,
   "metadata": {},
   "outputs": [],
   "source": [
    "def add_function(a, b):\n",
    "    result = a + b\n",
    "    return result"
   ]
  },
  {
   "cell_type": "code",
   "execution_count": null,
   "metadata": {},
   "outputs": [],
   "source": [
    "z = add_function(20, 22)\n",
    "print(z)"
   ]
  },
  {
   "cell_type": "code",
   "execution_count": null,
   "metadata": {},
   "outputs": [],
   "source": []
  }
 ],
 "metadata": {
  "anaconda-cloud": {},
  "kernelspec": {
   "display_name": "Python 3",
   "language": "python",
   "name": "python3"
  },
  "language_info": {
   "codemirror_mode": {
    "name": "ipython",
    "version": 3
   },
   "file_extension": ".py",
   "mimetype": "text/x-python",
   "name": "python",
   "nbconvert_exporter": "python",
   "pygments_lexer": "ipython3",
   "version": "3.6.5"
  }
 },
 "nbformat": 4,
 "nbformat_minor": 1
}
