{
 "cells": [
  {
   "cell_type": "markdown",
   "metadata": {},
   "source": [
    "# Analyse et visualisation de données avec Python\n",
    "## Combiner des DataFrame avec Pandas\n",
    "Questions\n",
    "* Peut-on travaillers avec plusieurs sources de données?\n",
    "* Comment combiner les données de deux DataFrames?\n",
    "\n",
    "Objectifs\n",
    "* Combiner les données de plusieurs fichiers en utilisant `concat` et `merge`.\n",
    "* Combiner deux DataFrames utilisant un identifiant commun."
   ]
  },
  {
   "cell_type": "markdown",
   "metadata": {},
   "source": [
    "## Charger nos données"
   ]
  },
  {
   "cell_type": "code",
   "execution_count": null,
   "metadata": {},
   "outputs": [],
   "source": [
    "# Charger le module pandas\n",
    "import pandas as pd\n",
    "\n",
    "# Charger les données\n",
    "surveys_df = pd.read_csv(\"../data/surveys.csv\")"
   ]
  },
  {
   "cell_type": "markdown",
   "metadata": {},
   "source": [
    "## Concaténer des DataFrames"
   ]
  },
  {
   "cell_type": "code",
   "execution_count": null,
   "metadata": {},
   "outputs": [],
   "source": [
    "# Sélectionner les 10 premiers enregistrements\n",
    "surveys_### = surveys_df.head(###)\n",
    "surveys_head10"
   ]
  },
  {
   "cell_type": "code",
   "execution_count": null,
   "metadata": {},
   "outputs": [],
   "source": [
    "# Sélectionner les 10 derniers enregistrements\n",
    "surveys_tail10 = surveys_df###\n",
    "surveys_tail10"
   ]
  },
  {
   "cell_type": "code",
   "execution_count": null,
   "metadata": {
    "scrolled": true
   },
   "outputs": [],
   "source": [
    "# Réinitaliser l'index du second dataframe\n",
    "# L'option drop=True évite l'ajout d'une colonne avec l'ancien index\n",
    "surveys_tail10 = surveys_tail10.###(drop=True)\n",
    "surveys_tail10"
   ]
  },
  {
   "cell_type": "code",
   "execution_count": null,
   "metadata": {},
   "outputs": [],
   "source": [
    "# Concaténer les dataframes verticalement\n",
    "vertical_stack = pd.###([surveys_head10, surveys_tail10], axis=###)\n",
    "vertical_stack"
   ]
  },
  {
   "cell_type": "code",
   "execution_count": null,
   "metadata": {},
   "outputs": [],
   "source": [
    "# Réinitaliser l'index du dataframe\n",
    "vertical_stack = vertical_stack.reset_index(###)\n",
    "vertical_stack"
   ]
  },
  {
   "cell_type": "markdown",
   "metadata": {},
   "source": [
    "### Écrire le résultat dans un fichier CSV"
   ]
  },
  {
   "cell_type": "code",
   "execution_count": null,
   "metadata": {},
   "outputs": [],
   "source": [
    "# Omettre l'index\n",
    "vertical_stack.###('surveys_sub.csv', ###)"
   ]
  },
  {
   "cell_type": "code",
   "execution_count": null,
   "metadata": {},
   "outputs": [],
   "source": [
    "# Charger le nouveau fichier CSV\n",
    "surveys_sub = pd.read_csv('surveys_sub.csv', ###)\n",
    "surveys_sub"
   ]
  },
  {
   "cell_type": "markdown",
   "metadata": {},
   "source": [
    "## Exercice - Concaténer des DataFrames\n",
    "Dans `surveys_df`, sélectionnez individuellement les enregistrements des années 2001 et 2002. Concaténez les deux dataframes verticalement. Créez un *line-plot* montrant la moyenne des poids par type de sexe pour chaque année (note: le tableau de données final aura une ligne par année). Sauvegardez le tableau des moyennes dans un CSV et le recharger."
   ]
  },
  {
   "cell_type": "code",
   "execution_count": null,
   "metadata": {},
   "outputs": [],
   "source": [
    "# Obtenir les données pour chaque année\n",
    "survey2001 = surveys_df[###]\n",
    "survey2002 = surveys_df[surveys_df['year'] ###]\n",
    "\n",
    "# Concaténer verticalement\n",
    "survey_all = pd.###([survey2001, survey2002], axis=###)"
   ]
  },
  {
   "cell_type": "code",
   "execution_count": null,
   "metadata": {},
   "outputs": [],
   "source": [
    "# Calculer la moyenne par année et par sexe\n",
    "weight_year = survey_all.groupby(['year', '###'])['###'].mean().unstack()\n",
    "weight_year"
   ]
  },
  {
   "cell_type": "code",
   "execution_count": null,
   "metadata": {},
   "outputs": [],
   "source": [
    "import matplotlib.pyplot as plt"
   ]
  },
  {
   "cell_type": "code",
   "execution_count": null,
   "metadata": {
    "scrolled": true
   },
   "outputs": [],
   "source": [
    "# Créer le graphique\n",
    "weight_year.###(kind=\"bar\")\n",
    "\n",
    "plt.tight_layout()  # Pour améliorer le graphique final"
   ]
  },
  {
   "cell_type": "code",
   "execution_count": null,
   "metadata": {},
   "outputs": [],
   "source": [
    "# Écrire dans un fichier - garder l'index \"year\" cette fois-ci\n",
    "weight_year.###(\"weight_for_year.csv\", ###)\n",
    "\n",
    "# Relire les données, fournir le nom de l'index\n",
    "pd.read_csv(\"weight_for_year.csv\", index_col='###')"
   ]
  },
  {
   "cell_type": "markdown",
   "metadata": {},
   "source": [
    "## Joindre deux DataFrames"
   ]
  },
  {
   "cell_type": "code",
   "execution_count": null,
   "metadata": {},
   "outputs": [],
   "source": [
    "# Importer un sous-ensemble des espèces pour cet exemple\n",
    "###_sub = pd.read_csv('../data/speciesSubset.csv')\n",
    "species_sub"
   ]
  },
  {
   "cell_type": "markdown",
   "metadata": {},
   "source": [
    "### Identifier les clés de jonction"
   ]
  },
  {
   "cell_type": "code",
   "execution_count": null,
   "metadata": {},
   "outputs": [],
   "source": [
    "surveys_head10.###"
   ]
  },
  {
   "cell_type": "code",
   "execution_count": null,
   "metadata": {},
   "outputs": [],
   "source": [
    "###_sub.columns"
   ]
  },
  {
   "cell_type": "markdown",
   "metadata": {},
   "source": [
    "### Une intersection ou \"inner join\""
   ]
  },
  {
   "cell_type": "markdown",
   "metadata": {},
   "source": [
    "![Inner join of tables A and B](https://datacarpentry.org/python-ecology-lesson/fig/inner-join.png)"
   ]
  },
  {
   "cell_type": "code",
   "execution_count": null,
   "metadata": {},
   "outputs": [],
   "source": [
    "merged_inner = pd.###(###=surveys_head10, ###=species_sub,\n",
    "                        ###='species_id', ###='species_id')\n",
    "# Quelle est la taille de la jonction?\n",
    "merged_inner.shape"
   ]
  },
  {
   "cell_type": "code",
   "execution_count": null,
   "metadata": {},
   "outputs": [],
   "source": [
    "merged_inner"
   ]
  },
  {
   "cell_type": "markdown",
   "metadata": {
    "collapsed": true
   },
   "source": [
    "### Jonction de gauche"
   ]
  },
  {
   "cell_type": "markdown",
   "metadata": {},
   "source": [
    "![Left join of tables A and B](https://datacarpentry.org/python-ecology-lesson/fig/left-join.png)"
   ]
  },
  {
   "cell_type": "code",
   "execution_count": null,
   "metadata": {},
   "outputs": [],
   "source": [
    "merged_left = pd.###(left=surveys_head10, right=species_sub,\n",
    "                       ###='###', on='species_id')\n",
    "# Quelle est la taille de la jonction?\n",
    "merged_left.shape"
   ]
  },
  {
   "cell_type": "code",
   "execution_count": null,
   "metadata": {},
   "outputs": [],
   "source": [
    "merged_left"
   ]
  },
  {
   "cell_type": "code",
   "execution_count": null,
   "metadata": {},
   "outputs": [],
   "source": [
    "merged_left[ pd.###(merged_left['###']) ]"
   ]
  },
  {
   "cell_type": "markdown",
   "metadata": {},
   "source": [
    "### Les autres types de jonction\n",
    "* `how='right'` : toutes les rangées du second DataFrame sont gardées\n",
    "* `how='outer'` : équivalent d'une union, toutes les rangées sont gardées"
   ]
  },
  {
   "cell_type": "markdown",
   "metadata": {},
   "source": [
    "## Exercice - Joindre toutes les données\n",
    "`1`. Créez un nouveau DataFrame tel que tous les enregistrements de `surveys.csv` seront gardés, mais certains enregistrement seront joints aux informations correspondantes de `species.csv` (soit le fichier complet à charger)."
   ]
  },
  {
   "cell_type": "code",
   "execution_count": null,
   "metadata": {},
   "outputs": [],
   "source": [
    "species_df = pd.read_csv(\"../data/species.csv\")\n",
    "merged_left = pd.merge(left=surveys_df, right=###, ###='left', ###='species_id')\n",
    "merged_left.shape"
   ]
  },
  {
   "cell_type": "markdown",
   "metadata": {},
   "source": [
    "`2`. Calculez et créez un graphique (*bar-plot*) montrant le nombre d'enregistrements (soit le nombre de `record_id`) par type de `taxa` pour chaque site (`plot_id`)."
   ]
  },
  {
   "cell_type": "code",
   "execution_count": null,
   "metadata": {},
   "outputs": [],
   "source": [
    "taxa_site = merged_left.groupby(['plot_id', 'taxa'])['###'].###().un###()\n",
    "taxa_site.head()"
   ]
  },
  {
   "cell_type": "code",
   "execution_count": null,
   "metadata": {},
   "outputs": [],
   "source": [
    "taxa_site.plot(kind='bar', stacked=###)\n",
    "plt.legend(loc='upper center', ncol=3, bbox_to_anchor=(0.5, 1.1))"
   ]
  },
  {
   "cell_type": "markdown",
   "metadata": {},
   "source": [
    "`3`. Calculez et créez un graphique (bar-plot) montrant le nombre de différents `taxa` par type de sexe pour chaque site (`plot_id`)."
   ]
  },
  {
   "cell_type": "code",
   "execution_count": null,
   "metadata": {},
   "outputs": [],
   "source": [
    "# Nettoyage des données\n",
    "merged_left.loc[merged_left['sex'].isnull(), 'sex'] = \"F|M\"\n",
    "merged_left.loc[~merged_left['sex'].isin([\"F\", \"F|M\", \"M\"]), 'sex'] = \"F|M\""
   ]
  },
  {
   "cell_type": "code",
   "execution_count": null,
   "metadata": {},
   "outputs": [],
   "source": [
    "ntaxa_sex_site = merged_left.groupby(['plot_id',\n",
    "                                      '###'])['###'].nunique().reset_index(level=1)\n",
    "ntaxa_sex_site.head()"
   ]
  },
  {
   "cell_type": "code",
   "execution_count": null,
   "metadata": {},
   "outputs": [],
   "source": [
    "# Utiliser pivot_table() au lieu de unstack()\n",
    "ntaxa_sex_site = ntaxa_sex_site.###(values='taxa', columns='sex',\n",
    "                                            index=ntaxa_sex_site.index)\n",
    "ntaxa_sex_site.head()"
   ]
  },
  {
   "cell_type": "code",
   "execution_count": null,
   "metadata": {},
   "outputs": [],
   "source": [
    "ntaxa_sex_site.plot(kind=\"bar\", stacked=###, legend=False)\n",
    "plt.legend(loc='upper center', ncol=3, bbox_to_anchor=(0.5, 1.08),\n",
    "           fontsize='small', frameon=False)"
   ]
  },
  {
   "cell_type": "code",
   "execution_count": null,
   "metadata": {},
   "outputs": [],
   "source": []
  }
 ],
 "metadata": {
  "anaconda-cloud": {},
  "kernelspec": {
   "display_name": "Python 3",
   "language": "python",
   "name": "python3"
  },
  "language_info": {
   "codemirror_mode": {
    "name": "ipython",
    "version": 3
   },
   "file_extension": ".py",
   "mimetype": "text/x-python",
   "name": "python",
   "nbconvert_exporter": "python",
   "pygments_lexer": "ipython3",
   "version": "3.7.4"
  }
 },
 "nbformat": 4,
 "nbformat_minor": 1
}
