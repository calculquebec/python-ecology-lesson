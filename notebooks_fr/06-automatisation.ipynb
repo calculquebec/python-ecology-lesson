{
 "cells": [
  {
   "cell_type": "markdown",
   "metadata": {},
   "source": [
    "# Analyse et visualisation de données avec Python\n",
    "## Automatisation du traitement des données\n",
    "Questions\n",
    "* Comment automatiser le traitement des données dans Python?\n",
    "* Comment structurer le traitement avec des fonctions?\n",
    "\n",
    "Objectifs\n",
    "* Utiliser des boucles `for` pour automatiser l'analyse de données.\n",
    "* Générer des fichiers avec des noms uniques.\n",
    "* Construire du code réutilisable en Python.\n",
    "* Écrire des fonctions avec des conditions (`if`, `then`, `else`)."
   ]
  },
  {
   "cell_type": "markdown",
   "metadata": {},
   "source": [
    "## Charger nos données"
   ]
  },
  {
   "cell_type": "code",
   "execution_count": null,
   "metadata": {},
   "outputs": [],
   "source": [
    "# Charger le module pandas\n",
    "import pandas as pd\n",
    "\n",
    "# Charger les données\n",
    "surveys_df = pd.read_csv(\"../data/surveys.csv\")\n",
    "species_df = pd.read_csv(\"../data/species.csv\")"
   ]
  },
  {
   "cell_type": "markdown",
   "metadata": {},
   "source": [
    "## Automatiser l'analyse de données avec des boucles `for`"
   ]
  },
  {
   "cell_type": "code",
   "execution_count": null,
   "metadata": {},
   "outputs": [],
   "source": [
    "import os"
   ]
  },
  {
   "cell_type": "code",
   "execution_count": null,
   "metadata": {},
   "outputs": [],
   "source": [
    "dossier_annees = \"fichiers_par_annee\"\n",
    "os.###(dossier_annees)"
   ]
  },
  {
   "cell_type": "code",
   "execution_count": null,
   "metadata": {
    "scrolled": true
   },
   "outputs": [],
   "source": [
    "os.###('.')"
   ]
  },
  {
   "cell_type": "code",
   "execution_count": null,
   "metadata": {},
   "outputs": [],
   "source": [
    "surveys_df['year']###\n",
    "    # Créer un nom de fichier unique pour chaque année\n",
    "    # nom_fichier = os.path.join(dossier_annees, \"surveys_\" + str(###) + \".csv\")\n",
    "    # print(nom_fichier)\n",
    "\n",
    "    # Sélectionner les données complètes de l'année en cours\n",
    "    # surveys_### = surveys_df[surveys_df['year'] == ###]\n",
    "    # surveys_annee.###(nom_fichier, index=###)\n",
    "\n",
    "# os.listdir(dossier_annees)"
   ]
  },
  {
   "cell_type": "markdown",
   "metadata": {
    "collapsed": true
   },
   "source": [
    "### Exercice - Création de fichiers différents\n",
    "Au lieu de diviser les données par année, nous voudrions les diviser par nom complet d'espèce. Il faut donc au préalable joindre les deux dataframes."
   ]
  },
  {
   "cell_type": "code",
   "execution_count": null,
   "metadata": {},
   "outputs": [],
   "source": [
    "dossier_### = \"fichiers_especes\"\n",
    "os.###(dossier_especes)  # Créer le dossier"
   ]
  },
  {
   "cell_type": "code",
   "execution_count": null,
   "metadata": {},
   "outputs": [],
   "source": [
    "merged_left = pd.merge(left=surveys_df, right=species_df, how='###', on=\"species###\")\n",
    "\n",
    "for espece in merged_left['###'].unique():\n",
    "    # Créer un nom de fichier unique pour chaque espèce\n",
    "    nom_fichier = os.path.join(###, \"surveys_\" + str(###) + \".csv\")\n",
    "    print(nom_fichier)\n",
    "\n",
    "    # Sélectionner les données complètes de l'espèce en cours\n",
    "    merged_left_espece = merged_left[merged_left### == ###].dropna()\n",
    "    merged_left_espece.###(nom_fichier, index=###)\n",
    "\n",
    "# os.###(dossier_especes)"
   ]
  },
  {
   "cell_type": "markdown",
   "metadata": {},
   "source": [
    "## Développer du code modulaire et réutilisable avec des fonctions"
   ]
  },
  {
   "cell_type": "code",
   "execution_count": null,
   "metadata": {},
   "outputs": [],
   "source": [
    "### one_year_csv_writer(all_data, folder_to_save, prefix, this_year):\n",
    "    \"\"\"\n",
    "    Écrire un fichier CSV avec les données d'une année.\n",
    "\n",
    "    all_data --- le DataFrame\n",
    "    folder_to_save --- dossier dans lequel sauvegarder le fichier\n",
    "    prefix --- préfixe au nom de fichier CSV\n",
    "    this_year --- année à sélectionner\n",
    "    \"\"\"\n",
    "\n",
    "    # Sélectionner les données complètes de l'année en cours\n",
    "    data_for_year = ###_data[###_data['year'] == ###_year]\n",
    "\n",
    "    # Sauvegarder les données dans un fichier indépendant\n",
    "    filename = os.path.join(folder_to_save, prefix + ###(###_year) + \".csv\")\n",
    "    data_for_year.to_csv(filename, index=False)"
   ]
  },
  {
   "cell_type": "code",
   "execution_count": null,
   "metadata": {},
   "outputs": [],
   "source": [
    "###(one_year_csv_writer)"
   ]
  },
  {
   "cell_type": "code",
   "execution_count": null,
   "metadata": {},
   "outputs": [],
   "source": [
    "one_year_csv_writer(surveys_df, folder_###, \"###_surveys_\", 2002)\n",
    "os.listdir(folder_years)"
   ]
  },
  {
   "cell_type": "code",
   "execution_count": null,
   "metadata": {},
   "outputs": [],
   "source": [
    "def yearly_data_csv_writer(all_data, folder_to_save, prefix, ###, ###):\n",
    "    \"\"\"\n",
    "    Écrire des fichiers CSV avec les données de plusieurs années.\n",
    "\n",
    "    all_data --- le DataFrame\n",
    "    folder_to_save --- dossier dans lequel sauvegarder le fichier\n",
    "    prefix --- préfixe au nom de fichier CSV\n",
    "    start_year --- première année à sélectionner\n",
    "    end_year --- dernière année à sélectionner\n",
    "    \"\"\"\n",
    "\n",
    "    # \"end_year\" est la dernière année à traiter, donc il faut end_year+1\n",
    "    for year in ###(start_year, end_year ###):\n",
    "        one_year_csv_writer(all_data, folder_to_save, prefix, year)"
   ]
  },
  {
   "cell_type": "code",
   "execution_count": null,
   "metadata": {},
   "outputs": [],
   "source": [
    "yearly_data_csv_writer(surveys_df, folder_years, \"###_surveys_\", ###, ###)\n",
    "os.listdir(folder_years)"
   ]
  },
  {
   "cell_type": "markdown",
   "metadata": {},
   "source": [
    "## Tester les arguments avec des conditions\n",
    "* On veut créer le dossier automatiquement.\n",
    "* Utiliser `None` par défaut pour `start_year` et `end_year`.\n",
    "* On veut que la fonction retourne les fichiers créés."
   ]
  },
  {
   "cell_type": "code",
   "execution_count": null,
   "metadata": {},
   "outputs": [],
   "source": [
    "def one_year_csv_writer(all_data, folder_to_save, prefix, this_year):\n",
    "    \"\"\"\n",
    "    Écrire un fichier CSV avec les données d'une année. Retourne le nom de fichier.\n",
    "\n",
    "    all_data --- le DataFrame\n",
    "    folder_to_save --- dossier dans lequel sauvegarder le fichier\n",
    "    prefix --- préfixe au nom de fichier CSV\n",
    "    this_year --- année à sélectionner\n",
    "    \"\"\"\n",
    "\n",
    "    # Sélectionner les données complètes de l'année en cours\n",
    "    data_for_year = all_data[all_data['year'] == this_year]\n",
    "\n",
    "    # Sauvegarder les données dans un fichier indépendant\n",
    "    filename = os.path.join(folder_to_save, prefix + str(this_year) + \".csv\")\n",
    "    data_for_year.to_csv(filename, index=False)\n",
    "\n",
    "    ### ###"
   ]
  },
  {
   "cell_type": "code",
   "execution_count": null,
   "metadata": {},
   "outputs": [],
   "source": [
    "def yearly_data_csv_writer(all_data, folder_to_save, prefix,\n",
    "                           start_year = ###, end_year = ###):\n",
    "    \"\"\"\n",
    "    Écrire des fichiers CSV avec les données de plusieurs années.\n",
    "\n",
    "    all_data --- le DataFrame\n",
    "    folder_to_save --- dossier dans lequel sauvegarder le fichier\n",
    "    prefix --- préfixe au nom de fichier CSV\n",
    "    start_year --- première année --- défaut: None - toutes les données\n",
    "    end_year --- dernière année --- défaut: None - toutes les données\n",
    "    \"\"\"\n",
    "\n",
    "    ### folder_to_save ### os.listdir('.'):\n",
    "        print('Le dossier existe')\n",
    "    ###:\n",
    "        os.mkdir(folder_to_save)\n",
    "        print('Nouveau dossier')\n",
    "\n",
    "    if ### start_year:\n",
    "        start_year = ###(all_data['year'])\n",
    "    if not end_year:\n",
    "        end_year = ###(all_data['year'])\n",
    "\n",
    "    filenames = ###\n",
    "\n",
    "    # \"end_year\" est la dernière année à traiter, donc il faut end_year+1\n",
    "    for year in range(start_year, end_year + 1):\n",
    "        filenames.###(one_year_csv_writer(all_data, folder_to_save, prefix, year))\n",
    "\n",
    "    ###"
   ]
  },
  {
   "cell_type": "code",
   "execution_count": null,
   "metadata": {},
   "outputs": [],
   "source": [
    "yearly_data_csv_writer(surveys_df, 'final', 'results_', 1995, 1998)"
   ]
  },
  {
   "cell_type": "code",
   "execution_count": null,
   "metadata": {},
   "outputs": [],
   "source": [
    "yearly_data_csv_writer(surveys_df, 'final', 'results_')"
   ]
  },
  {
   "cell_type": "code",
   "execution_count": null,
   "metadata": {},
   "outputs": [],
   "source": []
  }
 ],
 "metadata": {
  "anaconda-cloud": {},
  "kernelspec": {
   "display_name": "Python 3",
   "language": "python",
   "name": "python3"
  },
  "language_info": {
   "codemirror_mode": {
    "name": "ipython",
    "version": 3
   },
   "file_extension": ".py",
   "mimetype": "text/x-python",
   "name": "python",
   "nbconvert_exporter": "python",
   "pygments_lexer": "ipython3",
   "version": "3.7.4"
  }
 },
 "nbformat": 4,
 "nbformat_minor": 1
}
