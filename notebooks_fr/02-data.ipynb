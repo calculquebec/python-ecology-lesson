{
 "cells": [
  {
   "cell_type": "markdown",
   "metadata": {},
   "source": [
    "# Analyse et visualisation de données avec Python\n",
    "## Démarrer avec des données\n",
    "\n",
    "Questions\n",
    "* Comment importer des données dans Python?\n",
    "* Qu'est-ce que Pandas?\n",
    "* Pourquoi utiliser Pandas pour traiter des données tabulaires?\n",
    "\n",
    "Objectifs\n",
    "* Charger une bibliothèque d'analyse de données Python (Pandas).\n",
    "* Utiliser `read_csv` pour lire des données tabulaires dans Python.\n",
    "* Décrire ce qu'est un DataFrame dans Python.\n",
    "* Accéder et résumer les données d'un DataFrames.\n",
    "* Effectuer des opérations mathématiques et statistiques avec un DataFrame.\n",
    "* Effectuer une première visualisation des données."
   ]
  },
  {
   "cell_type": "markdown",
   "metadata": {},
   "source": [
    "## Utiliser les DataFrames Pandas dans Python\n",
    "### Nos données\n",
    "Pour le présent atelier, nous utiliserons un sous-ensemble des données du *Portal Teaching* :\n",
    "* Ernst *et al*, Long-term monitoring and experimental manipulation of a Chihuahuan Desert ecosystem near Portal, Arizona, USA, http://www.esapubs.org/archive/ecol/E090/118/default.htm\n",
    "* Les données du *Portal Project Teaching Database* :\n",
    "https://figshare.com/articles/Portal_Project_Teaching_Database/1314459\n",
    "* Entre autres, le fichier **`../data/surveys.csv`** est une version simplifiée du fichier : https://ndownloader.figshare.com/files/2292172\n",
    "\n",
    "Avec ce fichier de données, nous allons étudier les caractéristiques de différentes espèces animales vues dans différents sites de la zone de recherche. Chaque enregistrement dans ce fichier CSV contient l'information d'un seul animal observé. Voici les différentes informations recueillies qui correspondent aux colonnes d'une table de données :\n",
    "\n",
    " Column           | Description\n",
    "----------------- | -----------\n",
    "`record_id`       | Identifiant unique de l'enregistrement\n",
    "`month`           | Mois de l'enregistrement\n",
    "`day`             | Jour de l'enregistrement\n",
    "`year`            | Année de l'enregistrement\n",
    "`plot_id`         | Identifiant du site\n",
    "`species_id`      | Identifiant de l'espèce, encodé avec deux lettres\n",
    "`sex`             | Sexe de l'animal (\"F\", \"M\")\n",
    "`hindfoot_length` | Longueur de l'arrière-pied (mm)\n",
    "`weight`          | Poids de l'animal (g)\n",
    "\n",
    "Les premières lignes du fichier CSV ressemblent donc à ceci :\n",
    "```\n",
    "record_id,month,day,year,plot_id,species_id,sex,hindfoot_length,weight\n",
    "1,7,16,1977,2,NL,M,32,\n",
    "2,7,16,1977,3,NL,M,33,\n",
    "3,7,16,1977,2,DM,F,37,\n",
    "4,7,16,1977,7,DM,M,36,\n",
    "5,7,16,1977,3,DM,M,35,\n",
    "6,7,16,1977,1,PF,M,14,\n",
    "7,7,16,1977,2,PE,F,,\n",
    "8,7,16,1977,1,DM,M,37,\n",
    "9,7,16,1977,1,DM,F,34,\n",
    "```"
   ]
  },
  {
   "cell_type": "markdown",
   "metadata": {
    "collapsed": true
   },
   "source": [
    "### Pandas dans Python\n",
    "L'une des meilleures options pour traiter des données tabulaires dans Python est d'utiliser la bibliothèque d'analyse de données Python, c'est-à-dire *Pandas*. La bibliothèque Pandas fournit des structures de données, produit des graphiques de haute qualité avec *Matplotlib* et s'intègre bien avec d'autres bibliothèques utilisant des tableaux *NumPy* (qui est une autre bibliothèque Python)."
   ]
  },
  {
   "cell_type": "code",
   "execution_count": null,
   "metadata": {},
   "outputs": [],
   "source": [
    "import ### as ###"
   ]
  },
  {
   "cell_type": "markdown",
   "metadata": {
    "collapsed": true
   },
   "source": [
    "## Charger un fichier CSV avec Pandas\n",
    "### Qu'est-ce qu'un DataFrame?"
   ]
  },
  {
   "cell_type": "code",
   "execution_count": null,
   "metadata": {},
   "outputs": [],
   "source": [
    "# On utilise ici l'alias \"pd\" pour accéder aux ressources de Pandas\n",
    "###(\"###/###/surveys.csv\")"
   ]
  },
  {
   "cell_type": "code",
   "execution_count": null,
   "metadata": {},
   "outputs": [],
   "source": [
    "### = pd.read_csv(\"../data/surveys.csv\")"
   ]
  },
  {
   "cell_type": "code",
   "execution_count": null,
   "metadata": {},
   "outputs": [],
   "source": [
    "surveys_df"
   ]
  },
  {
   "cell_type": "code",
   "execution_count": null,
   "metadata": {},
   "outputs": [],
   "source": [
    "surveys_df### # Affiche les quelques premiers enregistrements"
   ]
  },
  {
   "cell_type": "markdown",
   "metadata": {},
   "source": [
    "### Démo - L'objet DataFrame\n",
    "Essayez les codes ci-dessous pour voir ce qu'ils retournent."
   ]
  },
  {
   "cell_type": "code",
   "execution_count": null,
   "metadata": {},
   "outputs": [],
   "source": [
    "surveys_df.###"
   ]
  },
  {
   "cell_type": "code",
   "execution_count": null,
   "metadata": {},
   "outputs": [],
   "source": [
    "surveys_df.###"
   ]
  },
  {
   "cell_type": "code",
   "execution_count": null,
   "metadata": {},
   "outputs": [],
   "source": [
    "surveys_df.###\n",
    "# Dans quel format est retourné la taille du DataFrame?"
   ]
  },
  {
   "cell_type": "code",
   "execution_count": null,
   "metadata": {},
   "outputs": [],
   "source": [
    "# Convertir les poids en kilogrammes\n",
    "surveys_df[###] ###"
   ]
  },
  {
   "cell_type": "markdown",
   "metadata": {},
   "source": [
    "## Calculer des statistiques"
   ]
  },
  {
   "cell_type": "code",
   "execution_count": null,
   "metadata": {},
   "outputs": [],
   "source": [
    "pd.###(surveys_df['year'])"
   ]
  },
  {
   "cell_type": "code",
   "execution_count": null,
   "metadata": {},
   "outputs": [],
   "source": [
    "surveys_df['species_id']###"
   ]
  },
  {
   "cell_type": "markdown",
   "metadata": {},
   "source": [
    "### Exercice - Calculer des statistiques\n",
    "`1`. Créer une liste des différents identifiants de site (`plot_id`) que l'on peut trouver dans `surveys_df`. Sauvegarder le résultat dans `site_names`. Combien y a-t-il de sites différents dans les données?"
   ]
  },
  {
   "cell_type": "code",
   "execution_count": null,
   "metadata": {},
   "outputs": [],
   "source": [
    "### = pd.###(surveys_df[###])\n",
    "###.###"
   ]
  },
  {
   "cell_type": "markdown",
   "metadata": {},
   "source": [
    "`2`. Quelle est la différence entre `len(site_names)` et `surveys_df['plot_id'].nunique()`?"
   ]
  },
  {
   "cell_type": "code",
   "execution_count": null,
   "metadata": {},
   "outputs": [],
   "source": [
    "# print(len(site_names))\n",
    "# print(surveys_df['plot_id'].nunique())"
   ]
  },
  {
   "cell_type": "markdown",
   "metadata": {
    "collapsed": true
   },
   "source": [
    "## Grouper des données"
   ]
  },
  {
   "cell_type": "code",
   "execution_count": null,
   "metadata": {},
   "outputs": [],
   "source": [
    "surveys_df['weight'].###"
   ]
  },
  {
   "cell_type": "code",
   "execution_count": null,
   "metadata": {},
   "outputs": [],
   "source": [
    "print(\"Count:    \", surveys_df['weight'].###())\n",
    "print(\"Mean:     \", surveys_df['weight'].###())\n",
    "print(\"Std Dev.: \", surveys_df['weight'].###())\n",
    "print(\"Min:      \", surveys_df['weight'].###())\n",
    "print(\"Max:      \", surveys_df['weight'].###())"
   ]
  },
  {
   "cell_type": "code",
   "execution_count": null,
   "metadata": {},
   "outputs": [],
   "source": [
    "# Grouper les données par sexe\n",
    "### = surveys_df.###('###')"
   ]
  },
  {
   "cell_type": "code",
   "execution_count": null,
   "metadata": {},
   "outputs": [],
   "source": [
    "# Obtenir des statistiques pour toutes les variables numériques\n",
    "by_sex.###"
   ]
  },
  {
   "cell_type": "code",
   "execution_count": null,
   "metadata": {},
   "outputs": [],
   "source": [
    "# Obtenir uniquement la moyenne de chaque colonne\n",
    "by_sex.###"
   ]
  },
  {
   "cell_type": "markdown",
   "metadata": {},
   "source": [
    "### Exercice - Grouper des données\n",
    "`1`. Combien d'individus de sexe féminin `F`, et combien d'individus de sexe masculin `M`?"
   ]
  },
  {
   "cell_type": "code",
   "execution_count": null,
   "metadata": {},
   "outputs": [],
   "source": [
    "by_sex###"
   ]
  },
  {
   "cell_type": "markdown",
   "metadata": {},
   "source": [
    "`2`. Qu'arrive-t-il si on groupe par deux colonnes et si on recalcule les moyennes?"
   ]
  },
  {
   "cell_type": "code",
   "execution_count": null,
   "metadata": {},
   "outputs": [],
   "source": [
    "by_site_sex = surveys_df.groupby(['plot_id','sex'])\n",
    "by_site_sex.###()"
   ]
  },
  {
   "cell_type": "markdown",
   "metadata": {},
   "source": [
    "`3`. Faites calculer un résumé statistique des poids (`weight`) pour chaque site (`plot_id`). Indice : c'est possible de sélectionner une seule colonne après avoir groupé les données."
   ]
  },
  {
   "cell_type": "code",
   "execution_count": null,
   "metadata": {},
   "outputs": [],
   "source": [
    "by_site = surveys_df.###(['###'])\n",
    "by_site['###'].###"
   ]
  },
  {
   "cell_type": "markdown",
   "metadata": {},
   "source": [
    "### Obtenir la taille de population d'une seule espèce"
   ]
  },
  {
   "cell_type": "code",
   "execution_count": null,
   "metadata": {},
   "outputs": [],
   "source": [
    "surveys_df.groupby('species_id')['record_id']#.count()###"
   ]
  },
  {
   "cell_type": "markdown",
   "metadata": {
    "collapsed": true
   },
   "source": [
    "## Créer des graphiques à partir de Pandas"
   ]
  },
  {
   "cell_type": "code",
   "execution_count": null,
   "metadata": {},
   "outputs": [],
   "source": [
    "by_site['record_id'].###().###(kind='bar')"
   ]
  },
  {
   "cell_type": "markdown",
   "metadata": {},
   "source": [
    "### Exercice - Créer un graphique\n",
    "Créer un graphique de type `line` montrant la médiane de `weight` par mois."
   ]
  },
  {
   "cell_type": "code",
   "execution_count": null,
   "metadata": {},
   "outputs": [],
   "source": [
    "surveys_df.###('###')['###'].###().plot(kind='###')"
   ]
  },
  {
   "cell_type": "markdown",
   "metadata": {},
   "source": [
    "## Exemple résumé"
   ]
  },
  {
   "cell_type": "code",
   "execution_count": null,
   "metadata": {},
   "outputs": [],
   "source": [
    "site_sex_totalw = by_site_sex['weight'].###()\n",
    "site_sex_totalw###"
   ]
  },
  {
   "cell_type": "code",
   "execution_count": null,
   "metadata": {},
   "outputs": [],
   "source": [
    "# Convertir les valeurs de la catégorie la plus à droite en colonnes\n",
    "sst = site_sex_totalw.unstack()\n",
    "sst"
   ]
  },
  {
   "cell_type": "code",
   "execution_count": null,
   "metadata": {},
   "outputs": [],
   "source": [
    "s_plot = sst.plot(kind='bar', ###,\n",
    "                  title=\"Total weight by site and sex\")\n",
    "s_plot.set_ylabel(\"Weight\")\n",
    "s_plot.set_xlabel(\"Site\")"
   ]
  },
  {
   "cell_type": "code",
   "execution_count": null,
   "metadata": {},
   "outputs": [],
   "source": []
  }
 ],
 "metadata": {
  "anaconda-cloud": {},
  "kernelspec": {
   "display_name": "Python 3",
   "language": "python",
   "name": "python3"
  },
  "language_info": {
   "codemirror_mode": {
    "name": "ipython",
    "version": 3
   },
   "file_extension": ".py",
   "mimetype": "text/x-python",
   "name": "python",
   "nbconvert_exporter": "python",
   "pygments_lexer": "ipython3",
   "version": "3.7.4"
  }
 },
 "nbformat": 4,
 "nbformat_minor": 1
}
