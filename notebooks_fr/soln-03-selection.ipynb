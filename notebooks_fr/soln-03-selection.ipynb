{
 "cells": [
  {
   "cell_type": "markdown",
   "metadata": {},
   "source": [
    "# Analyse et visualisation de données avec Python\n",
    "## Accéder à un sous-ensemble d'un DataFrames\n",
    "Questions\n",
    "* Comment accéder à des données spécifiques dans un dataframe?\n",
    "\n",
    "Objectives\n",
    "* Utiliser les tranches pour sélectionner un intervalle de données.\n",
    "* Utiliser les étiquettes de rangées et les noms de colonnes pour délimiter une tranche.\n",
    "* Réassigner des valeurs à une sélection dans un dataframe.\n",
    "* Créer une copie d'un dataframe.\n",
    "* Effectuer une sélection en utilisant un critère contenant un opérateur : `=`, `!=`, `>`, `<`, `>=`, `<=`.\n",
    "* Manipuler les données avec des masques de valeurs booléennes."
   ]
  },
  {
   "cell_type": "markdown",
   "metadata": {},
   "source": [
    "## Charger nos données"
   ]
  },
  {
   "cell_type": "code",
   "execution_count": null,
   "metadata": {},
   "outputs": [],
   "source": [
    "# Charger le module pandas\n",
    "import pandas as pd\n",
    "\n",
    "# Charger les données\n",
    "surveys_df = pd.read_csv(\"../data/surveys.csv\")"
   ]
  },
  {
   "cell_type": "markdown",
   "metadata": {},
   "source": [
    "## *Indexing* et *Slicing* dans Python\n",
    "### Sélectionner des données en utilisant des noms de colonne"
   ]
  },
  {
   "cell_type": "code",
   "execution_count": null,
   "metadata": {},
   "outputs": [],
   "source": [
    "surveys_df['species_id']"
   ]
  },
  {
   "cell_type": "code",
   "execution_count": null,
   "metadata": {},
   "outputs": [],
   "source": [
    "surveys_species = surveys_df['species_id']"
   ]
  },
  {
   "cell_type": "code",
   "execution_count": null,
   "metadata": {},
   "outputs": [],
   "source": [
    "# Sélectionner deux colonnes à l'aide d'une liste\n",
    "surveys_df[['species_id', 'plot_id']]"
   ]
  },
  {
   "cell_type": "markdown",
   "metadata": {},
   "source": [
    "### Copier et référencer des objets dans Python"
   ]
  },
  {
   "cell_type": "code",
   "execution_count": null,
   "metadata": {},
   "outputs": [],
   "source": [
    "# Créer une copie du dataframe avec les mêmes valeurs\n",
    "true_copy_surveys_df = surveys_df.copy()\n",
    "\n",
    "# Garder une référence vers le dataframe original\n",
    "ref_surveys_df = surveys_df"
   ]
  },
  {
   "cell_type": "code",
   "execution_count": null,
   "metadata": {},
   "outputs": [],
   "source": [
    "# Écraser toute la colonne avec la valeur 42\n",
    "ref_surveys_df['weight'] = 42"
   ]
  },
  {
   "cell_type": "code",
   "execution_count": null,
   "metadata": {},
   "outputs": [],
   "source": [
    "surveys_df.head()"
   ]
  },
  {
   "cell_type": "code",
   "execution_count": null,
   "metadata": {},
   "outputs": [],
   "source": [
    "true_copy_surveys_df.head()"
   ]
  },
  {
   "cell_type": "code",
   "execution_count": null,
   "metadata": {},
   "outputs": [],
   "source": [
    "# Recharger les données à partir du fichier CSV\n",
    "surveys_df = pd.read_csv(\"../data/surveys.csv\")\n",
    "surveys_df.head()"
   ]
  },
  {
   "cell_type": "markdown",
   "metadata": {},
   "source": [
    "### Faire une sélection selon des rangées et des colonnes\n",
    "On peut sélectionner un sous-ensemble de rangées et de colonnes avec l'attribut `loc` : c'est principalement basé sur les index de rangée et de colonne."
   ]
  },
  {
   "cell_type": "code",
   "execution_count": null,
   "metadata": {},
   "outputs": [],
   "source": [
    "# Qu'est-ce que cela donne?\n",
    "surveys_df.loc[0, ['species_id', 'plot_id', 'weight']]"
   ]
  },
  {
   "cell_type": "code",
   "execution_count": null,
   "metadata": {},
   "outputs": [],
   "source": [
    "# Sélectionner toutes les colonnes pour les rangées 0 et 10\n",
    "surveys_df.loc[[0, 10], :]"
   ]
  },
  {
   "cell_type": "code",
   "execution_count": null,
   "metadata": {},
   "outputs": [],
   "source": [
    "# Qu'arrive-t-il si on exécute le code ci-dessous?\n",
    "surveys_df.loc[[0, 10, 35549], :]"
   ]
  },
  {
   "cell_type": "markdown",
   "metadata": {},
   "source": [
    "### Exercice - Un intervalle\n",
    "Qu'est-ce qui arrive si on exécute :"
   ]
  },
  {
   "cell_type": "code",
   "execution_count": null,
   "metadata": {},
   "outputs": [],
   "source": [
    "surveys_df.loc[0:4, 1:4] # 'month':'plot_id'"
   ]
  },
  {
   "cell_type": "markdown",
   "metadata": {},
   "source": [
    "## Sélection par des critères"
   ]
  },
  {
   "cell_type": "code",
   "execution_count": null,
   "metadata": {},
   "outputs": [],
   "source": [
    "surveys_df[surveys_df['year'] == 2002]"
   ]
  },
  {
   "cell_type": "code",
   "execution_count": null,
   "metadata": {},
   "outputs": [],
   "source": [
    "surveys_df[surveys_df['year'] != 2002]"
   ]
  },
  {
   "cell_type": "code",
   "execution_count": null,
   "metadata": {},
   "outputs": [],
   "source": [
    "surveys_df[(surveys_df['year'] >= 2001) & (surveys_df['weight'] <= 8)]"
   ]
  },
  {
   "cell_type": "markdown",
   "metadata": {
    "collapsed": true
   },
   "source": [
    "Voici quelques opérateurs de comparaison que vous pouvez essayer :\n",
    "\n",
    "* Égal : `==`\n",
    "* Pas égal : `!=`\n",
    "* Plus grand que, plus petit que : `>` or `<`\n",
    "* Plus grand ou égal à : `>=`\n",
    "* Plus petit ou égal à : `<=`"
   ]
  },
  {
   "cell_type": "markdown",
   "metadata": {},
   "source": [
    "### Exercices - Sélections avancées\n",
    "`1`. Vous pouvez utiliser la méthode `isin()` pour aller chercher les enregistrements dont les valeurs d'une colonne correspondent à l'une des valeurs fournies dans une liste. Par exemple :\n",
    "```\n",
    "surveys_df[surveys_df['column_name'].isin([value1, value2, ...])]\n",
    "```\n",
    "Utilisez la méthode `isin()` pour trouver tous les différents sites (`plot_id`) ayant certaines espèces (`AS`, `CQ`, `OX` et `UL`) dans le DataFrame."
   ]
  },
  {
   "cell_type": "code",
   "execution_count": null,
   "metadata": {},
   "outputs": [],
   "source": [
    "surveys_df[surveys_df['species_id'].isin(['AS', 'CQ', 'OX', 'UL'])]['plot_id'].unique()"
   ]
  },
  {
   "cell_type": "markdown",
   "metadata": {},
   "source": [
    "`2`. Le symbole `~` peut être utilisé pour retourner l'opposé d'une sélection. C'est l'équivalent de **n'est pas**. Écrivez une requête sélectionnant tous les enregistrements ne contenant ni `M`, ni `F`."
   ]
  },
  {
   "cell_type": "code",
   "execution_count": null,
   "metadata": {},
   "outputs": [],
   "source": [
    "surveys_df[~surveys_df['sex'].isin([\"M\", \"F\"])]"
   ]
  },
  {
   "cell_type": "markdown",
   "metadata": {},
   "source": [
    "### Sélection selon les valeurs non définies"
   ]
  },
  {
   "cell_type": "code",
   "execution_count": null,
   "metadata": {},
   "outputs": [],
   "source": [
    "pd.isnull(surveys_df)"
   ]
  },
  {
   "cell_type": "code",
   "execution_count": null,
   "metadata": {},
   "outputs": [],
   "source": [
    "# Pour sélectionner les enregistrements ayant au moins une valeur NaN\n",
    "surveys_df[pd.isnull(surveys_df).any(axis=1)]"
   ]
  },
  {
   "cell_type": "code",
   "execution_count": null,
   "metadata": {},
   "outputs": [],
   "source": [
    "# Qu'est-ce que le code suivant va retourner?\n",
    "one_selection = surveys_df[pd.isnull(surveys_df['weight'])]\n",
    "one_selection.groupby('species_id')['record_id'].count()"
   ]
  },
  {
   "cell_type": "markdown",
   "metadata": {},
   "source": [
    "### Exercice - Enlever les NaN\n",
    "\n",
    "Créez une sélection contenant seulement les enregistrements ayant une valeur de `sex` (soit `F` ou `M`) et ayant poids supérieur à 0. Créez un graphique de barres empilées (ou *stacked bar-plot*) montrant la moyenne des poids selon le site (`plot_id`), mais avec les résultats des femelles et des mâles superposés."
   ]
  },
  {
   "cell_type": "code",
   "execution_count": null,
   "metadata": {},
   "outputs": [],
   "source": [
    "# Sélection des enregistrements et des colonnes nécessaires\n",
    "stack_selection = surveys_df[(surveys_df['sex'].isin([\"M\", \"F\"])) & \n",
    "                             (surveys_df['weight'] > 0)][['weight', 'plot_id', 'sex']]\n",
    "stack_selection.head()"
   ]
  },
  {
   "cell_type": "code",
   "execution_count": null,
   "metadata": {},
   "outputs": [],
   "source": [
    "# Grouper selon les sites et les sexes, calculer les moyennes\n",
    "stack_selection = stack_selection.groupby(['plot_id', 'sex']).mean().unstack()\n",
    "stack_selection.head()"
   ]
  },
  {
   "cell_type": "code",
   "execution_count": null,
   "metadata": {},
   "outputs": [],
   "source": [
    "# Simplification du nom des colonnes dans la légende\n",
    "stack_selection.columns = stack_selection.columns.droplevel()\n",
    "stack_selection.head()"
   ]
  },
  {
   "cell_type": "code",
   "execution_count": null,
   "metadata": {},
   "outputs": [],
   "source": [
    "# Créer le stacked bar plot\n",
    "stack_selection.plot(kind='bar', stacked=True)"
   ]
  },
  {
   "cell_type": "code",
   "execution_count": null,
   "metadata": {},
   "outputs": [],
   "source": []
  }
 ],
 "metadata": {
  "anaconda-cloud": {},
  "kernelspec": {
   "display_name": "Python 3",
   "language": "python",
   "name": "python3"
  },
  "language_info": {
   "codemirror_mode": {
    "name": "ipython",
    "version": 3
   },
   "file_extension": ".py",
   "mimetype": "text/x-python",
   "name": "python",
   "nbconvert_exporter": "python",
   "pygments_lexer": "ipython3",
   "version": "3.7.4"
  }
 },
 "nbformat": 4,
 "nbformat_minor": 1
}
