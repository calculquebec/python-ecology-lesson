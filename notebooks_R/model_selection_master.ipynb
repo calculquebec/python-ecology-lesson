{
 "cells": [
  {
   "cell_type": "markdown",
   "metadata": {},
   "source": [
    "# Model Selection, Functions, Loops, and parallel processing"
   ]
  },
  {
   "cell_type": "markdown",
   "metadata": {},
   "source": [
    "While it is true that you want to get a \"feel\" of what is happening during the analysis, sometimes you just wish you could run a chunk of code and walk away. Loops are great for that and can even be run in parallel. Here's an example of how you can use them to help you make a decision."
   ]
  },
  {
   "cell_type": "markdown",
   "metadata": {},
   "source": [
    "## Typical way beginners would look into model selection"
   ]
  },
  {
   "cell_type": "markdown",
   "metadata": {},
   "source": [
    "\\# 1. DBH\n",
    "\n",
    "test=lmer(dbh~(1|type), data = tree_df)\n",
    "\n",
    "\n",
    "AIC(test)\n",
    "\n",
    "\\# AIC is 958.1\n",
    "\n",
    "test=lmer(dbh~classe_drainage+(1|type), data = tree_df)\n",
    "\n",
    "AIC(test)\n",
    "\n",
    "\\# AIC is 802.7\n",
    "\n",
    "test=lmer(dbh~D_index+(1|type), data = tree_df)\n",
    "\n",
    "AIC(test)\n",
    "\n",
    "\\# AIC is 867.3\n",
    "\n",
    "test=lmer(dbh~defoliation+(1|type), data = tree_df)\n",
    "\n",
    "AIC(test)\n",
    "\n",
    "\\# AIC is 960.1\n",
    "\n",
    "test=lmer(dbh~epid_age+(1|type), data = tree_df)\n",
    "\n",
    "AIC(test)\n",
    "\n",
    "\\# AIC is 958.1"
   ]
  },
  {
   "cell_type": "markdown",
   "metadata": {},
   "source": [
    "## What if your variables change? What if you want to store your results?\n",
    "### Loops and functions can help you!"
   ]
  },
  {
   "cell_type": "code",
   "execution_count": 1,
   "metadata": {
    "collapsed": false
   },
   "outputs": [
    {
     "name": "stderr",
     "output_type": "stream",
     "text": [
      "Loading required package: Matrix\n"
     ]
    },
    {
     "data": {
      "text/html": [
       "<ol>\n",
       "\t<li><ol class=list-inline>\n",
       "\t<li>'rJava'</li>\n",
       "\t<li>'stats'</li>\n",
       "\t<li>'graphics'</li>\n",
       "\t<li>'grDevices'</li>\n",
       "\t<li>'utils'</li>\n",
       "\t<li>'datasets'</li>\n",
       "\t<li>'methods'</li>\n",
       "\t<li>'base'</li>\n",
       "</ol>\n",
       "</li>\n",
       "\t<li><ol class=list-inline>\n",
       "\t<li>'glmulti'</li>\n",
       "\t<li>'rJava'</li>\n",
       "\t<li>'stats'</li>\n",
       "\t<li>'graphics'</li>\n",
       "\t<li>'grDevices'</li>\n",
       "\t<li>'utils'</li>\n",
       "\t<li>'datasets'</li>\n",
       "\t<li>'methods'</li>\n",
       "\t<li>'base'</li>\n",
       "</ol>\n",
       "</li>\n",
       "\t<li><ol class=list-inline>\n",
       "\t<li>'lme4'</li>\n",
       "\t<li>'Matrix'</li>\n",
       "\t<li>'glmulti'</li>\n",
       "\t<li>'rJava'</li>\n",
       "\t<li>'stats'</li>\n",
       "\t<li>'graphics'</li>\n",
       "\t<li>'grDevices'</li>\n",
       "\t<li>'utils'</li>\n",
       "\t<li>'datasets'</li>\n",
       "\t<li>'methods'</li>\n",
       "\t<li>'base'</li>\n",
       "</ol>\n",
       "</li>\n",
       "\t<li><ol class=list-inline>\n",
       "\t<li>'data.table'</li>\n",
       "\t<li>'lme4'</li>\n",
       "\t<li>'Matrix'</li>\n",
       "\t<li>'glmulti'</li>\n",
       "\t<li>'rJava'</li>\n",
       "\t<li>'stats'</li>\n",
       "\t<li>'graphics'</li>\n",
       "\t<li>'grDevices'</li>\n",
       "\t<li>'utils'</li>\n",
       "\t<li>'datasets'</li>\n",
       "\t<li>'methods'</li>\n",
       "\t<li>'base'</li>\n",
       "</ol>\n",
       "</li>\n",
       "</ol>\n"
      ],
      "text/latex": [
       "\\begin{enumerate}\n",
       "\\item \\begin{enumerate*}\n",
       "\\item 'rJava'\n",
       "\\item 'stats'\n",
       "\\item 'graphics'\n",
       "\\item 'grDevices'\n",
       "\\item 'utils'\n",
       "\\item 'datasets'\n",
       "\\item 'methods'\n",
       "\\item 'base'\n",
       "\\end{enumerate*}\n",
       "\n",
       "\\item \\begin{enumerate*}\n",
       "\\item 'glmulti'\n",
       "\\item 'rJava'\n",
       "\\item 'stats'\n",
       "\\item 'graphics'\n",
       "\\item 'grDevices'\n",
       "\\item 'utils'\n",
       "\\item 'datasets'\n",
       "\\item 'methods'\n",
       "\\item 'base'\n",
       "\\end{enumerate*}\n",
       "\n",
       "\\item \\begin{enumerate*}\n",
       "\\item 'lme4'\n",
       "\\item 'Matrix'\n",
       "\\item 'glmulti'\n",
       "\\item 'rJava'\n",
       "\\item 'stats'\n",
       "\\item 'graphics'\n",
       "\\item 'grDevices'\n",
       "\\item 'utils'\n",
       "\\item 'datasets'\n",
       "\\item 'methods'\n",
       "\\item 'base'\n",
       "\\end{enumerate*}\n",
       "\n",
       "\\item \\begin{enumerate*}\n",
       "\\item 'data.table'\n",
       "\\item 'lme4'\n",
       "\\item 'Matrix'\n",
       "\\item 'glmulti'\n",
       "\\item 'rJava'\n",
       "\\item 'stats'\n",
       "\\item 'graphics'\n",
       "\\item 'grDevices'\n",
       "\\item 'utils'\n",
       "\\item 'datasets'\n",
       "\\item 'methods'\n",
       "\\item 'base'\n",
       "\\end{enumerate*}\n",
       "\n",
       "\\end{enumerate}\n"
      ],
      "text/markdown": [
       "1. 1. 'rJava'\n",
       "2. 'stats'\n",
       "3. 'graphics'\n",
       "4. 'grDevices'\n",
       "5. 'utils'\n",
       "6. 'datasets'\n",
       "7. 'methods'\n",
       "8. 'base'\n",
       "\n",
       "\n",
       "\n",
       "2. 1. 'glmulti'\n",
       "2. 'rJava'\n",
       "3. 'stats'\n",
       "4. 'graphics'\n",
       "5. 'grDevices'\n",
       "6. 'utils'\n",
       "7. 'datasets'\n",
       "8. 'methods'\n",
       "9. 'base'\n",
       "\n",
       "\n",
       "\n",
       "3. 1. 'lme4'\n",
       "2. 'Matrix'\n",
       "3. 'glmulti'\n",
       "4. 'rJava'\n",
       "5. 'stats'\n",
       "6. 'graphics'\n",
       "7. 'grDevices'\n",
       "8. 'utils'\n",
       "9. 'datasets'\n",
       "10. 'methods'\n",
       "11. 'base'\n",
       "\n",
       "\n",
       "\n",
       "4. 1. 'data.table'\n",
       "2. 'lme4'\n",
       "3. 'Matrix'\n",
       "4. 'glmulti'\n",
       "5. 'rJava'\n",
       "6. 'stats'\n",
       "7. 'graphics'\n",
       "8. 'grDevices'\n",
       "9. 'utils'\n",
       "10. 'datasets'\n",
       "11. 'methods'\n",
       "12. 'base'\n",
       "\n",
       "\n",
       "\n",
       "\n",
       "\n"
      ],
      "text/plain": [
       "[[1]]\n",
       "[1] \"rJava\"     \"stats\"     \"graphics\"  \"grDevices\" \"utils\"     \"datasets\" \n",
       "[7] \"methods\"   \"base\"     \n",
       "\n",
       "[[2]]\n",
       "[1] \"glmulti\"   \"rJava\"     \"stats\"     \"graphics\"  \"grDevices\" \"utils\"    \n",
       "[7] \"datasets\"  \"methods\"   \"base\"     \n",
       "\n",
       "[[3]]\n",
       " [1] \"lme4\"      \"Matrix\"    \"glmulti\"   \"rJava\"     \"stats\"     \"graphics\" \n",
       " [7] \"grDevices\" \"utils\"     \"datasets\"  \"methods\"   \"base\"     \n",
       "\n",
       "[[4]]\n",
       " [1] \"data.table\" \"lme4\"       \"Matrix\"     \"glmulti\"    \"rJava\"     \n",
       " [6] \"stats\"      \"graphics\"   \"grDevices\"  \"utils\"      \"datasets\"  \n",
       "[11] \"methods\"    \"base\"      \n"
      ]
     },
     "metadata": {},
     "output_type": "display_data"
    }
   ],
   "source": [
    "# load packages\n",
    "packgs<-c(\"rJava\", \"glmulti\", \"lme4\", \"data.table\")\n",
    "lapply(packgs, library, character.only=TRUE)"
   ]
  },
  {
   "cell_type": "code",
   "execution_count": 2,
   "metadata": {
    "collapsed": true
   },
   "outputs": [],
   "source": [
    "files <- grep(list.files(path = \"../data/yearly_files/\",pattern = \"*.csv\"), pattern='function_', inv=T, value=T)"
   ]
  },
  {
   "cell_type": "code",
   "execution_count": 3,
   "metadata": {
    "collapsed": false
   },
   "outputs": [
    {
     "data": {
      "text/html": [
       "<ol class=list-inline>\n",
       "\t<li>'../data/yearly_files/surveys1977.csv'</li>\n",
       "\t<li>'../data/yearly_files/surveys1978.csv'</li>\n",
       "\t<li>'../data/yearly_files/surveys1979.csv'</li>\n",
       "\t<li>'../data/yearly_files/surveys1980.csv'</li>\n",
       "\t<li>'../data/yearly_files/surveys1981.csv'</li>\n",
       "\t<li>'../data/yearly_files/surveys1982.csv'</li>\n",
       "\t<li>'../data/yearly_files/surveys1983.csv'</li>\n",
       "\t<li>'../data/yearly_files/surveys1984.csv'</li>\n",
       "\t<li>'../data/yearly_files/surveys1985.csv'</li>\n",
       "\t<li>'../data/yearly_files/surveys1986.csv'</li>\n",
       "\t<li>'../data/yearly_files/surveys1987.csv'</li>\n",
       "\t<li>'../data/yearly_files/surveys1988.csv'</li>\n",
       "\t<li>'../data/yearly_files/surveys1989.csv'</li>\n",
       "\t<li>'../data/yearly_files/surveys1990.csv'</li>\n",
       "\t<li>'../data/yearly_files/surveys1991.csv'</li>\n",
       "\t<li>'../data/yearly_files/surveys1992.csv'</li>\n",
       "\t<li>'../data/yearly_files/surveys1993.csv'</li>\n",
       "\t<li>'../data/yearly_files/surveys1994.csv'</li>\n",
       "\t<li>'../data/yearly_files/surveys1995.csv'</li>\n",
       "\t<li>'../data/yearly_files/surveys1996.csv'</li>\n",
       "\t<li>'../data/yearly_files/surveys1997.csv'</li>\n",
       "\t<li>'../data/yearly_files/surveys1998.csv'</li>\n",
       "\t<li>'../data/yearly_files/surveys1999.csv'</li>\n",
       "\t<li>'../data/yearly_files/surveys2000.csv'</li>\n",
       "\t<li>'../data/yearly_files/surveys2001.csv'</li>\n",
       "\t<li>'../data/yearly_files/surveys2002.csv'</li>\n",
       "</ol>\n"
      ],
      "text/latex": [
       "\\begin{enumerate*}\n",
       "\\item '../data/yearly\\_files/surveys1977.csv'\n",
       "\\item '../data/yearly\\_files/surveys1978.csv'\n",
       "\\item '../data/yearly\\_files/surveys1979.csv'\n",
       "\\item '../data/yearly\\_files/surveys1980.csv'\n",
       "\\item '../data/yearly\\_files/surveys1981.csv'\n",
       "\\item '../data/yearly\\_files/surveys1982.csv'\n",
       "\\item '../data/yearly\\_files/surveys1983.csv'\n",
       "\\item '../data/yearly\\_files/surveys1984.csv'\n",
       "\\item '../data/yearly\\_files/surveys1985.csv'\n",
       "\\item '../data/yearly\\_files/surveys1986.csv'\n",
       "\\item '../data/yearly\\_files/surveys1987.csv'\n",
       "\\item '../data/yearly\\_files/surveys1988.csv'\n",
       "\\item '../data/yearly\\_files/surveys1989.csv'\n",
       "\\item '../data/yearly\\_files/surveys1990.csv'\n",
       "\\item '../data/yearly\\_files/surveys1991.csv'\n",
       "\\item '../data/yearly\\_files/surveys1992.csv'\n",
       "\\item '../data/yearly\\_files/surveys1993.csv'\n",
       "\\item '../data/yearly\\_files/surveys1994.csv'\n",
       "\\item '../data/yearly\\_files/surveys1995.csv'\n",
       "\\item '../data/yearly\\_files/surveys1996.csv'\n",
       "\\item '../data/yearly\\_files/surveys1997.csv'\n",
       "\\item '../data/yearly\\_files/surveys1998.csv'\n",
       "\\item '../data/yearly\\_files/surveys1999.csv'\n",
       "\\item '../data/yearly\\_files/surveys2000.csv'\n",
       "\\item '../data/yearly\\_files/surveys2001.csv'\n",
       "\\item '../data/yearly\\_files/surveys2002.csv'\n",
       "\\end{enumerate*}\n"
      ],
      "text/markdown": [
       "1. '../data/yearly_files/surveys1977.csv'\n",
       "2. '../data/yearly_files/surveys1978.csv'\n",
       "3. '../data/yearly_files/surveys1979.csv'\n",
       "4. '../data/yearly_files/surveys1980.csv'\n",
       "5. '../data/yearly_files/surveys1981.csv'\n",
       "6. '../data/yearly_files/surveys1982.csv'\n",
       "7. '../data/yearly_files/surveys1983.csv'\n",
       "8. '../data/yearly_files/surveys1984.csv'\n",
       "9. '../data/yearly_files/surveys1985.csv'\n",
       "10. '../data/yearly_files/surveys1986.csv'\n",
       "11. '../data/yearly_files/surveys1987.csv'\n",
       "12. '../data/yearly_files/surveys1988.csv'\n",
       "13. '../data/yearly_files/surveys1989.csv'\n",
       "14. '../data/yearly_files/surveys1990.csv'\n",
       "15. '../data/yearly_files/surveys1991.csv'\n",
       "16. '../data/yearly_files/surveys1992.csv'\n",
       "17. '../data/yearly_files/surveys1993.csv'\n",
       "18. '../data/yearly_files/surveys1994.csv'\n",
       "19. '../data/yearly_files/surveys1995.csv'\n",
       "20. '../data/yearly_files/surveys1996.csv'\n",
       "21. '../data/yearly_files/surveys1997.csv'\n",
       "22. '../data/yearly_files/surveys1998.csv'\n",
       "23. '../data/yearly_files/surveys1999.csv'\n",
       "24. '../data/yearly_files/surveys2000.csv'\n",
       "25. '../data/yearly_files/surveys2001.csv'\n",
       "26. '../data/yearly_files/surveys2002.csv'\n",
       "\n",
       "\n"
      ],
      "text/plain": [
       " [1] \"../data/yearly_files/surveys1977.csv\"\n",
       " [2] \"../data/yearly_files/surveys1978.csv\"\n",
       " [3] \"../data/yearly_files/surveys1979.csv\"\n",
       " [4] \"../data/yearly_files/surveys1980.csv\"\n",
       " [5] \"../data/yearly_files/surveys1981.csv\"\n",
       " [6] \"../data/yearly_files/surveys1982.csv\"\n",
       " [7] \"../data/yearly_files/surveys1983.csv\"\n",
       " [8] \"../data/yearly_files/surveys1984.csv\"\n",
       " [9] \"../data/yearly_files/surveys1985.csv\"\n",
       "[10] \"../data/yearly_files/surveys1986.csv\"\n",
       "[11] \"../data/yearly_files/surveys1987.csv\"\n",
       "[12] \"../data/yearly_files/surveys1988.csv\"\n",
       "[13] \"../data/yearly_files/surveys1989.csv\"\n",
       "[14] \"../data/yearly_files/surveys1990.csv\"\n",
       "[15] \"../data/yearly_files/surveys1991.csv\"\n",
       "[16] \"../data/yearly_files/surveys1992.csv\"\n",
       "[17] \"../data/yearly_files/surveys1993.csv\"\n",
       "[18] \"../data/yearly_files/surveys1994.csv\"\n",
       "[19] \"../data/yearly_files/surveys1995.csv\"\n",
       "[20] \"../data/yearly_files/surveys1996.csv\"\n",
       "[21] \"../data/yearly_files/surveys1997.csv\"\n",
       "[22] \"../data/yearly_files/surveys1998.csv\"\n",
       "[23] \"../data/yearly_files/surveys1999.csv\"\n",
       "[24] \"../data/yearly_files/surveys2000.csv\"\n",
       "[25] \"../data/yearly_files/surveys2001.csv\"\n",
       "[26] \"../data/yearly_files/surveys2002.csv\""
      ]
     },
     "metadata": {},
     "output_type": "display_data"
    }
   ],
   "source": [
    "files = paste(\"../data/yearly_files/\", files, sep=\"\"); files"
   ]
  },
  {
   "cell_type": "code",
   "execution_count": 4,
   "metadata": {
    "collapsed": false
   },
   "outputs": [],
   "source": [
    "temp <- lapply(files, fread, sep=\",\")"
   ]
  },
  {
   "cell_type": "code",
   "execution_count": 5,
   "metadata": {
    "collapsed": true
   },
   "outputs": [],
   "source": [
    "surveys <- rbindlist( temp )"
   ]
  },
  {
   "cell_type": "code",
   "execution_count": 6,
   "metadata": {
    "collapsed": false
   },
   "outputs": [],
   "source": [
    "plots=read.csv(\"../data/plots_details.csv\", header=T)"
   ]
  },
  {
   "cell_type": "code",
   "execution_count": 7,
   "metadata": {
    "collapsed": true
   },
   "outputs": [],
   "source": [
    "species=read.csv(\"../data/species.csv\", header=T)"
   ]
  },
  {
   "cell_type": "code",
   "execution_count": 8,
   "metadata": {
    "collapsed": true
   },
   "outputs": [],
   "source": [
    "m1=merge(surveys, species, by=\"species_id\")"
   ]
  },
  {
   "cell_type": "code",
   "execution_count": 9,
   "metadata": {
    "collapsed": true
   },
   "outputs": [],
   "source": [
    "survey_df=merge(m1, plots, by=\"plot_id\")"
   ]
  },
  {
   "cell_type": "code",
   "execution_count": 10,
   "metadata": {
    "collapsed": true
   },
   "outputs": [],
   "source": [
    "# wrap function around lmer\n",
    "lmer.wrap<-function(formula,data,random=\"\",...){\n",
    "  lmer(paste(deparse(formula),random),data=data, REML=FALSE,...)\n",
    "}"
   ]
  },
  {
   "cell_type": "code",
   "execution_count": 11,
   "metadata": {
    "collapsed": true
   },
   "outputs": [],
   "source": [
    "?glmulti"
   ]
  },
  {
   "cell_type": "code",
   "execution_count": 12,
   "metadata": {
    "collapsed": true
   },
   "outputs": [],
   "source": [
    "?trycatch"
   ]
  },
  {
   "cell_type": "code",
   "execution_count": 13,
   "metadata": {
    "collapsed": true
   },
   "outputs": [],
   "source": [
    "# glmulti is used here for model selection\n",
    "par_function <- function(y) {\n",
    "  name<-paste(y)\n",
    "  out <- tryCatch({\n",
    "    glmulti(formula(paste(y, \"dist_from_river+dbh+height+surface_terriere+pc_conif\", sep=\"~\")), \n",
    "            data=survey_df, random=\"+(1|plot_id)\", fitfunc=lmer.wrap, intercept=TRUE, confsetsize = 10, level=1)\n",
    "  }, error = function(error) {\n",
    "    print(paste(\"ERROR:  \", error))\n",
    "    return(NA)\n",
    "  })\n",
    "  return(out@objects[[1]])\n",
    "}"
   ]
  },
  {
   "cell_type": "code",
   "execution_count": 55,
   "metadata": {
    "collapsed": false
   },
   "outputs": [
    {
     "name": "stdout",
     "output_type": "stream",
     "text": [
      "Initialization...\n",
      "TASK: Exhaustive screening of candidate set.\n",
      "Fitting...\n",
      "\n",
      "After 50 models:\n",
      "Best model: weight~1\n",
      "Crit= 276682.603722263\n",
      "Mean crit= 276685.02390673\n",
      "Completed.\n"
     ]
    },
    {
     "data": {
      "text/plain": [
       "Linear mixed model fit by maximum likelihood  ['lmerMod']\n",
       "Formula: weight ~ 1 + (1 | plot_id)\n",
       "   Data: data\n",
       "      AIC       BIC    logLik  deviance  df.resid \n",
       " 276682.6  276707.5 -138338.3  276676.6     29628 \n",
       "Random effects:\n",
       " Groups   Name        Std.Dev.\n",
       " plot_id  (Intercept) 10.64   \n",
       " Residual             25.73   \n",
       "Number of obs: 29631, groups:  plot_id, 24\n",
       "Fixed Effects:\n",
       "(Intercept)  \n",
       "      34.23  "
      ]
     },
     "metadata": {},
     "output_type": "display_data"
    },
    {
     "data": {
      "image/png": "[encoded data removed]",
      "text/plain": [
       "Plot with title “IC profile”"
      ]
     },
     "metadata": {},
     "output_type": "display_data"
    }
   ],
   "source": [
    "par_function(\"weight\")"
   ]
  },
  {
   "cell_type": "code",
   "execution_count": 50,
   "metadata": {
    "collapsed": false
   },
   "outputs": [
    {
     "data": {
      "text/html": [
       "<ol class=list-inline>\n",
       "\t<li>'plot_id'</li>\n",
       "\t<li>'species_id'</li>\n",
       "\t<li>'V1'</li>\n",
       "\t<li>'record_id'</li>\n",
       "\t<li>'month'</li>\n",
       "\t<li>'day'</li>\n",
       "\t<li>'year'</li>\n",
       "\t<li>'sex'</li>\n",
       "\t<li>'hindfoot_length'</li>\n",
       "\t<li>'weight'</li>\n",
       "\t<li>'genus'</li>\n",
       "\t<li>'species'</li>\n",
       "\t<li>'taxa'</li>\n",
       "\t<li>'plot_type'</li>\n",
       "\t<li>'dist_from_river'</li>\n",
       "\t<li>'surface_terriere'</li>\n",
       "\t<li>'dbh'</li>\n",
       "\t<li>'age'</li>\n",
       "\t<li>'height'</li>\n",
       "\t<li>'pc_conif'</li>\n",
       "</ol>\n"
      ],
      "text/latex": [
       "\\begin{enumerate*}\n",
       "\\item 'plot\\_id'\n",
       "\\item 'species\\_id'\n",
       "\\item 'V1'\n",
       "\\item 'record\\_id'\n",
       "\\item 'month'\n",
       "\\item 'day'\n",
       "\\item 'year'\n",
       "\\item 'sex'\n",
       "\\item 'hindfoot\\_length'\n",
       "\\item 'weight'\n",
       "\\item 'genus'\n",
       "\\item 'species'\n",
       "\\item 'taxa'\n",
       "\\item 'plot\\_type'\n",
       "\\item 'dist\\_from\\_river'\n",
       "\\item 'surface\\_terriere'\n",
       "\\item 'dbh'\n",
       "\\item 'age'\n",
       "\\item 'height'\n",
       "\\item 'pc\\_conif'\n",
       "\\end{enumerate*}\n"
      ],
      "text/markdown": [
       "1. 'plot_id'\n",
       "2. 'species_id'\n",
       "3. 'V1'\n",
       "4. 'record_id'\n",
       "5. 'month'\n",
       "6. 'day'\n",
       "7. 'year'\n",
       "8. 'sex'\n",
       "9. 'hindfoot_length'\n",
       "10. 'weight'\n",
       "11. 'genus'\n",
       "12. 'species'\n",
       "13. 'taxa'\n",
       "14. 'plot_type'\n",
       "15. 'dist_from_river'\n",
       "16. 'surface_terriere'\n",
       "17. 'dbh'\n",
       "18. 'age'\n",
       "19. 'height'\n",
       "20. 'pc_conif'\n",
       "\n",
       "\n"
      ],
      "text/plain": [
       " [1] \"plot_id\"          \"species_id\"       \"V1\"               \"record_id\"       \n",
       " [5] \"month\"            \"day\"              \"year\"             \"sex\"             \n",
       " [9] \"hindfoot_length\"  \"weight\"           \"genus\"            \"species\"         \n",
       "[13] \"taxa\"             \"plot_type\"        \"dist_from_river\"  \"surface_terriere\"\n",
       "[17] \"dbh\"              \"age\"              \"height\"           \"pc_conif\"        "
      ]
     },
     "metadata": {},
     "output_type": "display_data"
    }
   ],
   "source": []
  },
  {
   "cell_type": "markdown",
   "metadata": {},
   "source": [
    "### An even better option"
   ]
  },
  {
   "cell_type": "code",
   "execution_count": 14,
   "metadata": {
    "collapsed": true
   },
   "outputs": [],
   "source": [
    "#list of variables\n",
    "yvar.list<-list(\"hindfoot_length\", \"weight\") # 3 response variables\n",
    "xvar<-\"dist_from_river+dbh+height+surface_terriere+pc_conif\"# several explanatory variables which will be combined later\n",
    "output.list=list()"
   ]
  },
  {
   "cell_type": "code",
   "execution_count": 86,
   "metadata": {
    "collapsed": false
   },
   "outputs": [
    {
     "name": "stdout",
     "output_type": "stream",
     "text": [
      "Initialization...\n",
      "TASK: Exhaustive screening of candidate set.\n",
      "Fitting...\n",
      "\n",
      "After 50 models:\n",
      "Best model: hindfoot_length~1\n",
      "Crit= 211544.152055954\n",
      "Mean crit= 211546.433166666\n",
      "Completed.\n",
      "Initialization...\n",
      "TASK: Exhaustive screening of candidate set.\n",
      "Fitting...\n",
      "\n",
      "After 50 models:\n",
      "Best model: weight~1\n",
      "Crit= 276682.603722263\n",
      "Mean crit= 276685.02390673\n"
     ]
    },
    {
     "data": {
      "image/png": "[encoded data removed]",
      "text/plain": [
       "Plot with title “IC profile”"
      ]
     },
     "metadata": {},
     "output_type": "display_data"
    },
    {
     "name": "stdout",
     "output_type": "stream",
     "text": [
      "Completed.\n",
      "Time difference of 16.10801 secs\n"
     ]
    },
    {
     "data": {
      "image/png": "[encoded data removed]",
      "text/plain": [
       "Plot with title “IC profile”"
      ]
     },
     "metadata": {},
     "output_type": "display_data"
    }
   ],
   "source": [
    "t.st<-Sys.time()\n",
    "for(y in yvar.list){\n",
    "  out<-glmulti(formula(paste(y, \"dist_from_river+dbh+height+surface_terriere+pc_conif\", sep=\"~\")), \n",
    "                data=survey_df, random=\"+(1|plot_id)\", fitfunc=lmer.wrap, intercept=TRUE, confsetsize = 10, level=1)\n",
    "  output.list[[y]]<-out@objects[[1]]\n",
    "}\n",
    "t.fin<-Sys.time()\n",
    "print(t.fin-t.st)"
   ]
  },
  {
   "cell_type": "code",
   "execution_count": 15,
   "metadata": {
    "collapsed": false
   },
   "outputs": [
    {
     "data": {
      "text/html": [
       "<ol>\n",
       "</ol>\n"
      ],
      "text/latex": [
       "\\begin{enumerate}\n",
       "\\end{enumerate}\n"
      ],
      "text/markdown": [
       "\n",
       "\n"
      ],
      "text/plain": [
       "list()"
      ]
     },
     "metadata": {},
     "output_type": "display_data"
    }
   ],
   "source": [
    "output.list"
   ]
  },
  {
   "cell_type": "markdown",
   "metadata": {},
   "source": [
    "### We can make it even better by using all available resources"
   ]
  },
  {
   "cell_type": "code",
   "execution_count": 16,
   "metadata": {
    "collapsed": false
   },
   "outputs": [
    {
     "name": "stderr",
     "output_type": "stream",
     "text": [
      "Loading required package: foreach\n",
      "Loading required package: iterators\n"
     ]
    }
   ],
   "source": [
    "# cluster creation\n",
    "#library(Rmpi)\n",
    "library(snow)\n",
    "library(doSNOW)\n",
    "library(foreach)"
   ]
  },
  {
   "cell_type": "code",
   "execution_count": 17,
   "metadata": {
    "collapsed": false
   },
   "outputs": [
    {
     "name": "stderr",
     "output_type": "stream",
     "text": [
      "Loading required package: parallel\n",
      "\n",
      "Attaching package: ‘parallel’\n",
      "\n",
      "The following objects are masked from ‘package:snow’:\n",
      "\n",
      "    clusterApply, clusterApplyLB, clusterCall, clusterEvalQ,\n",
      "    clusterExport, clusterMap, clusterSplit, makeCluster, parApply,\n",
      "    parCapply, parLapply, parRapply, parSapply, splitIndices,\n",
      "    stopCluster\n",
      "\n"
     ]
    }
   ],
   "source": [
    "# Single node\n",
    "library(doParallel)\n",
    "cl<-makeCluster(8)\n",
    "registerDoParallel(cl)"
   ]
  },
  {
   "cell_type": "code",
   "execution_count": 18,
   "metadata": {
    "collapsed": false
   },
   "outputs": [],
   "source": [
    "# Export variables and libraries\n",
    "out <- clusterEvalQ(cl, library(rJava))\n",
    "out <- clusterEvalQ(cl, library(glmulti))\n",
    "out <- clusterEvalQ(cl, library(lme4))\n",
    "out <- clusterExport(cl, 'lmer.wrap')\n",
    "out <- clusterExport(cl, 'glmulti')\n",
    "out <- clusterExport(cl, 'survey_df')\n",
    "out <- clusterExport(cl, 'yvar.list')\n",
    "out <- clusterExport(cl, 'xvar')"
   ]
  },
  {
   "cell_type": "code",
   "execution_count": 19,
   "metadata": {
    "collapsed": false
   },
   "outputs": [],
   "source": [
    "foreach.loop<-foreach(y=yvar.list, .combine=\"cbind\") %dopar% par_function(y)\n",
    "saveRDS(foreach.loop, 'output_foreach.rds')"
   ]
  },
  {
   "cell_type": "code",
   "execution_count": 20,
   "metadata": {
    "collapsed": true
   },
   "outputs": [],
   "source": [
    "#####################\n",
    "# delete cluster\n",
    "#####################\n",
    "stopCluster(cl)"
   ]
  },
  {
   "cell_type": "code",
   "execution_count": 27,
   "metadata": {
    "collapsed": false
   },
   "outputs": [
    {
     "data": {},
     "metadata": {},
     "output_type": "display_data"
    }
   ],
   "source": [
    "con <- gzfile(\"output_foreach.rds\")\n",
    "readRDS(con)\n",
    "close(con)"
   ]
  },
  {
   "cell_type": "code",
   "execution_count": 28,
   "metadata": {
    "collapsed": false
   },
   "outputs": [
    {
     "data": {
      "text/plain": [
       "     description            class             mode             text \n",
       "          \"rval\" \"textConnection\"              \"w\"           \"text\" \n",
       "          opened         can read        can write \n",
       "        \"opened\"             \"no\"            \"yes\" "
      ]
     },
     "metadata": {},
     "output_type": "display_data"
    }
   ],
   "source": [
    "con"
   ]
  },
  {
   "cell_type": "markdown",
   "metadata": {
    "collapsed": true
   },
   "source": [
    "# If you are running your script on our servers\n"
   ]
  },
  {
   "cell_type": "code",
   "execution_count": null,
   "metadata": {
    "collapsed": true
   },
   "outputs": [],
   "source": [
    "nCore = as.integer(Sys.getenv(\"MOAB_PROCCOUNT\"))\n",
    "if (is.na(nCore)){ nCore = 8 }\n",
    "\n",
    "# Multiple nodes\n",
    "cl = makeMPIcluster(nCore)\n",
    "registerDoSNOW(cl)"
   ]
  }
 ],
 "metadata": {
  "anaconda-cloud": {},
  "kernelspec": {
   "display_name": "R",
   "language": "R",
   "name": "ir"
  },
  "language_info": {
   "codemirror_mode": "r",
   "file_extension": ".r",
   "mimetype": "text/x-r-source",
   "name": "R",
   "pygments_lexer": "r",
   "version": "3.3.2"
  }
 },
 "nbformat": 4,
 "nbformat_minor": 1
}
