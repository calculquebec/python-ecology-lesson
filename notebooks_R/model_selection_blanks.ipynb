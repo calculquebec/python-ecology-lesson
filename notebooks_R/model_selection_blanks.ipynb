{
 "cells": [
  {
   "cell_type": "markdown",
   "metadata": {},
   "source": [
    "# Model Selection, Functions, Loops, and parallel processing"
   ]
  },
  {
   "cell_type": "markdown",
   "metadata": {},
   "source": [
    "While it is true that you want to get a \"feel\" of what is happening during the analysis, sometimes you just wish you could run a chunk of code and walk away. Loops are great for that and can even be run in parallel. Here's an example of how you can use them to help you make a decision."
   ]
  },
  {
   "cell_type": "markdown",
   "metadata": {},
   "source": [
    "## Typical way beginners would look into model selection"
   ]
  },
  {
   "cell_type": "markdown",
   "metadata": {},
   "source": [
    "\\# 1. DBH\n",
    "\n",
    "test=lmer(dbh~(1|type), data = tree_df)\n",
    "\n",
    "\n",
    "AIC(test)\n",
    "\n",
    "\\# AIC is 958.1\n",
    "\n",
    "test=lmer(dbh~classe_drainage+(1|type), data = tree_df)\n",
    "\n",
    "AIC(test)\n",
    "\n",
    "\\# AIC is 802.7\n",
    "\n",
    "test=lmer(dbh~D_index+(1|type), data = tree_df)\n",
    "\n",
    "AIC(test)\n",
    "\n",
    "\\# AIC is 867.3\n",
    "\n",
    "test=lmer(dbh~defoliation+(1|type), data = tree_df)\n",
    "\n",
    "AIC(test)\n",
    "\n",
    "\\# AIC is 960.1\n",
    "\n",
    "test=lmer(dbh~epid_age+(1|type), data = tree_df)\n",
    "\n",
    "AIC(test)\n",
    "\n",
    "\\# AIC is 958.1"
   ]
  },
  {
   "cell_type": "markdown",
   "metadata": {},
   "source": [
    "## What if your variables change? What if you want to store your results?\n",
    "### Loops and functions can help you!"
   ]
  },
  {
   "cell_type": "code",
   "execution_count": null,
   "metadata": {
    "collapsed": false
   },
   "outputs": [],
   "source": [
    "# load packages\n",
    "packgs<-c(\"rJava\", \"glmulti\", \"lme4\", \"data.table\")\n",
    "lapply(packgs, library, character.only=TRUE)"
   ]
  },
  {
   "cell_type": "code",
   "execution_count": null,
   "metadata": {
    "collapsed": true
   },
   "outputs": [],
   "source": [
    "files <- grep(list.files(path = \"../data/yearly_files/\",pattern = \"\"), pattern='function_', inv=T, value=T)"
   ]
  },
  {
   "cell_type": "code",
   "execution_count": null,
   "metadata": {
    "collapsed": false
   },
   "outputs": [],
   "source": [
    "files = paste(\"../data/yearly_files/\", files, sep=\"\")"
   ]
  },
  {
   "cell_type": "code",
   "execution_count": null,
   "metadata": {
    "collapsed": false
   },
   "outputs": [],
   "source": [
    "temp <- lapply(files, fread, sep=\",\")"
   ]
  },
  {
   "cell_type": "code",
   "execution_count": null,
   "metadata": {
    "collapsed": true
   },
   "outputs": [],
   "source": [
    "surveys <- rbindlist( temp )"
   ]
  },
  {
   "cell_type": "code",
   "execution_count": null,
   "metadata": {
    "collapsed": false
   },
   "outputs": [],
   "source": [
    "plots=read.csv(\"../data/plots_details.csv\", header=T)"
   ]
  },
  {
   "cell_type": "code",
   "execution_count": null,
   "metadata": {
    "collapsed": true
   },
   "outputs": [],
   "source": [
    "species=read.csv(\"\", header=T)"
   ]
  },
  {
   "cell_type": "code",
   "execution_count": null,
   "metadata": {
    "collapsed": true
   },
   "outputs": [],
   "source": [
    "m1=merge(surveys, species, by=\"\")"
   ]
  },
  {
   "cell_type": "code",
   "execution_count": null,
   "metadata": {
    "collapsed": true
   },
   "outputs": [],
   "source": [
    "survey_df=merge(m1, plots, by=\"\")"
   ]
  },
  {
   "cell_type": "code",
   "execution_count": null,
   "metadata": {
    "collapsed": true
   },
   "outputs": [],
   "source": [
    "# wrap function around lmer\n",
    "lmer.wrap<-function(formula,data,random=\"\",...){\n",
    "  lmer(paste(deparse(formula),random),data=data, REML=FALSE,...)\n",
    "}"
   ]
  },
  {
   "cell_type": "code",
   "execution_count": null,
   "metadata": {
    "collapsed": true
   },
   "outputs": [],
   "source": []
  },
  {
   "cell_type": "code",
   "execution_count": null,
   "metadata": {
    "collapsed": true
   },
   "outputs": [],
   "source": []
  },
  {
   "cell_type": "code",
   "execution_count": null,
   "metadata": {
    "collapsed": true
   },
   "outputs": [],
   "source": [
    "# glmulti is used here for model selection\n",
    "par_function <- function(y) {\n",
    "  name<-paste(y)\n",
    "  out <- tryCatch({\n",
    "    glmulti(formula(paste(y, \"dist_from_river+dbh+height+surface_terriere+pc_conif\", sep=\"~\")), \n",
    "            data=survey_df, random=\"+(1|)\", fitfunc=lmer.wrap, intercept=TRUE, confsetsize = 10, level=1)\n",
    "  }, error = function(error) {\n",
    "    print(paste(\"ERROR:  \", error))\n",
    "    return(NA)\n",
    "  })\n",
    "  return(out@objects[[1]])\n",
    "}"
   ]
  },
  {
   "cell_type": "code",
   "execution_count": null,
   "metadata": {
    "collapsed": false
   },
   "outputs": [],
   "source": [
    "par_function(\"\")"
   ]
  },
  {
   "cell_type": "code",
   "execution_count": null,
   "metadata": {
    "collapsed": false
   },
   "outputs": [],
   "source": []
  },
  {
   "cell_type": "markdown",
   "metadata": {},
   "source": [
    "### An even better option"
   ]
  },
  {
   "cell_type": "code",
   "execution_count": null,
   "metadata": {
    "collapsed": true
   },
   "outputs": [],
   "source": [
    "#list of variables\n",
    "yvar.list<-list(\"hindfoot_length\", \"weight\") # 3 response variables\n",
    "xvar<-\"dist_from_river+dbh+height+surface_terriere+pc_conif\"# several explanatory variables which will be combined later\n",
    "output.list=list()"
   ]
  },
  {
   "cell_type": "code",
   "execution_count": null,
   "metadata": {
    "collapsed": false
   },
   "outputs": [],
   "source": [
    "t.st<-Sys.time()\n",
    "for(y in yvar.list){\n",
    "  out<-glmulti(formula(paste(y, \"dist_from_river+dbh+height+surface_terriere+pc_conif\", sep=\"~\")), \n",
    "                data=survey_df, random=\"+(1|)\", fitfunc=lmer.wrap, intercept=TRUE, confsetsize = 10, level=1)\n",
    "  output.list[[y]]<-out@objects[[1]]\n",
    "}\n",
    "t.fin<-Sys.time()\n",
    "print(t.fin-t.st)"
   ]
  },
  {
   "cell_type": "code",
   "execution_count": null,
   "metadata": {
    "collapsed": false
   },
   "outputs": [],
   "source": []
  },
  {
   "cell_type": "markdown",
   "metadata": {},
   "source": [
    "### We can make it even better by using all available resources"
   ]
  },
  {
   "cell_type": "code",
   "execution_count": null,
   "metadata": {
    "collapsed": false
   },
   "outputs": [],
   "source": [
    "# cluster creation\n",
    "#library(Rmpi)\n",
    "library(snow)\n",
    "library(doSNOW)\n",
    "library(foreach)"
   ]
  },
  {
   "cell_type": "code",
   "execution_count": null,
   "metadata": {
    "collapsed": false
   },
   "outputs": [],
   "source": [
    "# Single node\n",
    "library(doParallel)\n",
    "cl<-makeCluster(8)\n",
    "registerDoParallel(cl)"
   ]
  },
  {
   "cell_type": "code",
   "execution_count": null,
   "metadata": {
    "collapsed": false
   },
   "outputs": [],
   "source": [
    "# Export variables and libraries\n",
    "out <- clusterEvalQ(cl, library(rJava))\n",
    "out <- clusterEvalQ(cl, library(glmulti))\n",
    "out <- clusterEvalQ(cl, library(lme4))\n",
    "out <- clusterExport(cl, 'lmer.wrap')\n",
    "out <- clusterExport(cl, 'glmulti')\n",
    "out <- clusterExport(cl, 'survey_df')\n",
    "out <- clusterExport(cl, 'yvar.list')\n",
    "out <- clusterExport(cl, 'xvar')"
   ]
  },
  {
   "cell_type": "code",
   "execution_count": null,
   "metadata": {
    "collapsed": false
   },
   "outputs": [],
   "source": [
    "foreach.loop<-foreach(y=yvar.list, .combine=\"cbind\") %dopar% par_function(y)\n",
    "saveRDS(foreach.loop, 'output_foreach.rds')"
   ]
  },
  {
   "cell_type": "code",
   "execution_count": null,
   "metadata": {
    "collapsed": true
   },
   "outputs": [],
   "source": [
    "#####################\n",
    "# delete cluster\n",
    "#####################\n",
    "stopCluster(cl)"
   ]
  },
  {
   "cell_type": "code",
   "execution_count": null,
   "metadata": {
    "collapsed": false
   },
   "outputs": [],
   "source": [
    "con <- gzfile(\"output_foreach.rds\")\n",
    "readRDS(con)\n",
    "close(con)"
   ]
  },
  {
   "cell_type": "code",
   "execution_count": null,
   "metadata": {
    "collapsed": false
   },
   "outputs": [],
   "source": []
  },
  {
   "cell_type": "markdown",
   "metadata": {
    "collapsed": true
   },
   "source": [
    "# If you are running your script on our servers\n"
   ]
  },
  {
   "cell_type": "code",
   "execution_count": null,
   "metadata": {
    "collapsed": true
   },
   "outputs": [],
   "source": [
    "nCore = as.integer(Sys.getenv(\"MOAB_PROCCOUNT\"))\n",
    "if (is.na(nCore)){ nCore = 8 }\n",
    "\n",
    "# Multiple nodes\n",
    "cl = makeMPIcluster(nCore)\n",
    "registerDoSNOW(cl)"
   ]
  }
 ],
 "metadata": {
  "anaconda-cloud": {},
  "kernelspec": {
   "display_name": "R",
   "language": "R",
   "name": "ir"
  },
  "language_info": {
   "codemirror_mode": "r",
   "file_extension": ".r",
   "mimetype": "text/x-r-source",
   "name": "R",
   "pygments_lexer": "r",
   "version": "3.3.2"
  }
 },
 "nbformat": 4,
 "nbformat_minor": 1
}
